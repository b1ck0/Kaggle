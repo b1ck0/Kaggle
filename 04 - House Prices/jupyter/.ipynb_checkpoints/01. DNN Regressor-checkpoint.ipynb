{
 "cells": [
  {
   "cell_type": "code",
   "execution_count": null,
   "metadata": {},
   "outputs": [],
   "source": [
    "import numpy as np\n",
    "import pandas as pd\n",
    "import tensorflow as tf\n",
    "import matplotlib.pyplot as plt\n",
    "import seaborn as sns\n",
    "\n",
    "tf.logging.set_verbosity(tf.logging.INFO)\n",
    "%matplotlib inline"
   ]
  },
  {
   "cell_type": "code",
   "execution_count": null,
   "metadata": {},
   "outputs": [],
   "source": [
    "def load_datasets():\n",
    "    # reading the datasets\n",
    "    train = pd.read_csv('../input/train.csv.gz', compression='infer')\n",
    "    infer = pd.read_csv('../input/test.csv.gz', compression='infer')\n",
    "    \n",
    "    train_features = train.drop(['Id','SalePrice'], axis=1)\n",
    "    train_labels = train['SalePrice']\n",
    "    infer_features = infer.drop('Id', axis=1)\n",
    "    \n",
    "    from sklearn.model_selection import train_test_split\n",
    "    X_train, X_eval, y_train, y_eval = train_test_split(train_features, train_labels, test_size=0.33, random_state=42)\n",
    "    \n",
    "    def get_bins(df):\n",
    "        bins = {}\n",
    "        numeric_columns = [\n",
    "            'LotFrontage', 'LotArea', 'TotalBsmtSF', 'BsmtFinSF2', 'BsmtUnfSF', 'WoodDeckSF',\n",
    "            'BsmtFinSF1', 'MasVnrArea', '1stFlrSF', '2ndFlrSF', 'LowQualFinSF', 'GrLivArea', 'GarageArea',\n",
    "            'OpenPorchSF', 'EnclosedPorch', '3SsnPorch', 'ScreenPorch', 'PoolArea', 'MiscVal']\n",
    "        \n",
    "        for column in numeric_columns:\n",
    "            tempdf, retbins = pd.cut(df[column], 10, labels=None, retbins=True, include_lowest=True)\n",
    "            bins[column] = retbins\n",
    "\n",
    "        return bins \n",
    "    \n",
    "    bins = get_bins(X_train)\n",
    "    \n",
    "    labels, uniques = pd.factorize(['b', 'b', 'a', 'c', 'b'], sort=True)\n",
    "    \n",
    "    return X_train, X_eval, y_train, y_eval, infer_features, bins"
   ]
  },
  {
   "cell_type": "code",
   "execution_count": null,
   "metadata": {},
   "outputs": [],
   "source": [
    "X_train, X_eval, y_train, y_eval, infer_features, bins = load_datasets()"
   ]
  },
  {
   "cell_type": "code",
   "execution_count": null,
   "metadata": {},
   "outputs": [],
   "source": [
    "from tensorflow.feature_column import *\n",
    "\n",
    "all_columns = X_train.columns\n",
    "numeric_columns = [\n",
    "        'LotFrontage', 'LotArea', 'TotalBsmtSF', 'BsmtFinSF2', 'BsmtUnfSF', 'WoodDeckSF',\n",
    "        'BsmtFinSF1', 'MasVnrArea', '1stFlrSF', '2ndFlrSF', 'LowQualFinSF', 'GrLivArea', 'GarageArea',\n",
    "        'OpenPorchSF', 'EnclosedPorch', '3SsnPorch', 'ScreenPorch', 'PoolArea', 'MiscVal']\n",
    "categorical_columns = set(all_columns) - set(numeric_columns)\n",
    "\n",
    "BUCKETIZED_FEATURES = [bucketized_column(numeric_column(column), boundaries=bins[column].tolist()) for column in \n",
    "                      numeric_columns]\n",
    "\n",
    "CATEGORICAL_FEATURES = [categorical_column_with_identity(key=column, num_buckets=20) for column in categorical_columns]\n",
    "\n",
    "FEATURE_COLUMNS = []\n",
    "for feature in BUCKETIZED_FEATURES:\n",
    "    FEATURE_COLUMNS.append(feature)\n",
    "    \n",
    "for feature in CATEGORICAL_FEATURES:\n",
    "    FEATURE_COLUMNS.append(indicator_column(feature))\n",
    "    \n",
    "for column in categorical_columns:\n",
    "    X_train[column], junk = pd.factorize(X_train[column])\n",
    "    X_eval[column], junk = pd.factorize(X_eval[column])\n",
    "    infer_features[column], junk = pd.factorize(infer_features[column])"
   ]
  },
  {
   "cell_type": "code",
   "execution_count": null,
   "metadata": {},
   "outputs": [],
   "source": [
    "def train_input_fn(features, labels):\n",
    "    return tf.estimator.inputs.pandas_input_fn(\n",
    "                x = features,\n",
    "                y = labels,\n",
    "                num_epochs = 2000,\n",
    "                shuffle = True, \n",
    "                batch_size=50)\n",
    "\n",
    "def eval_input_fn(features, labels):\n",
    "    return tf.estimator.inputs.pandas_input_fn(\n",
    "                x = features,\n",
    "                y = labels,\n",
    "                num_epochs = 1,\n",
    "                shuffle = True)\n",
    "\n",
    "def pred_input_fn(features):\n",
    "    return tf.estimator.inputs.pandas_input_fn(\n",
    "                x = features,\n",
    "                num_epochs = 1,\n",
    "                shuffle = False)"
   ]
  },
  {
   "cell_type": "code",
   "execution_count": null,
   "metadata": {
    "scrolled": false
   },
   "outputs": [],
   "source": [
    "OUTDIR = './DNN_REGRESSOR'\n",
    "\n",
    "file_writer = tf.summary.FileWriter(OUTDIR)\n",
    "\n",
    "estimator = tf.estimator.DNNRegressor(\n",
    "    feature_columns=FEATURE_COLUMNS, \n",
    "    hidden_units=[32,32,32,32,32],\n",
    "    model_dir=OUTDIR, \n",
    "    dropout=0.25,\n",
    "    optimizer=tf.train.ProximalAdagradOptimizer(\n",
    "      learning_rate=0.001,\n",
    "      l1_regularization_strength=0.01\n",
    "    ))\n",
    "\n",
    "train_spec = tf.estimator.TrainSpec(input_fn = train_input_fn(X_train, y_train))\n",
    "eval_spec = tf.estimator.EvalSpec(input_fn = eval_input_fn(X_eval, y_eval))\n",
    "\n",
    "tf.estimator.train_and_evaluate(estimator, train_spec, eval_spec)"
   ]
  },
  {
   "cell_type": "code",
   "execution_count": null,
   "metadata": {},
   "outputs": [],
   "source": []
  },
  {
   "cell_type": "code",
   "execution_count": null,
   "metadata": {},
   "outputs": [],
   "source": []
  },
  {
   "cell_type": "code",
   "execution_count": null,
   "metadata": {},
   "outputs": [],
   "source": []
  }
 ],
 "metadata": {
  "kernelspec": {
   "display_name": "Python 3",
   "language": "python",
   "name": "python3"
  },
  "language_info": {
   "codemirror_mode": {
    "name": "ipython",
    "version": 3
   },
   "file_extension": ".py",
   "mimetype": "text/x-python",
   "name": "python",
   "nbconvert_exporter": "python",
   "pygments_lexer": "ipython3",
   "version": "3.6.5"
  }
 },
 "nbformat": 4,
 "nbformat_minor": 2
}
