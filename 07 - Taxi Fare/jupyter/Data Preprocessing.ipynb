{
 "cells": [
  {
   "cell_type": "code",
   "execution_count": 1,
   "metadata": {},
   "outputs": [],
   "source": [
    "import pandas as pd\n",
    "import numpy as np"
   ]
  },
  {
   "cell_type": "code",
   "execution_count": 2,
   "metadata": {
    "scrolled": true
   },
   "outputs": [],
   "source": [
    "def load_train():\n",
    "    TRAIN_PATH = '../input/train.csv.zip'\n",
    "    \n",
    "    n_rows = 55_423_857 # total number of rows in the training dataset\n",
    "    chunksize = 5_000_000 # batch size\n",
    "    total_chunk = n_rows // chunksize + 1 # number of batches needed\n",
    "    \n",
    "    # defining the columns datatypes (optimize memory usage)\n",
    "    traintypes = {\n",
    "        'fare_amount': 'float32',\n",
    "        'pickup_datetime': 'str', \n",
    "        'pickup_longitude': 'float32',\n",
    "        'pickup_latitude': 'float32',\n",
    "        'dropoff_longitude': 'float32',\n",
    "        'dropoff_latitude': 'float32',\n",
    "        'passenger_count': 'uint8'\n",
    "    }\n",
    "\n",
    "    cols = list(traintypes.keys())\n",
    "    \n",
    "    # loading the dataframe into list of small dataframes\n",
    "    df_list = []\n",
    "\n",
    "    for df_chunk in pd.read_csv(TRAIN_PATH, usecols=cols, dtype=traintypes, chunksize=chunksize, compression='infer'):\n",
    "        df_chunk['pickup_datetime'] = df_chunk['pickup_datetime'].str.slice(0, 16)\n",
    "        df_chunk['pickup_datetime'] = pd.to_datetime(df_chunk['pickup_datetime'], utc=True, format='%Y-%m-%d %H:%M')\n",
    "        df_list.append(df_chunk) \n",
    "        df = pd.concat(df_list)\n",
    "        \n",
    "    return df\n",
    "    \n",
    "def clean_train(df):\n",
    "    train.dropna(axis=0, how='any', inplace=True)\n",
    "    \n",
    "    idx_negative_fare = df[df['fare_amount'] < 0].index\n",
    "    df.drop(axis=0, index=idx_negative_fare, inplace=True)\n",
    "    del idx_negative_fare\n",
    "    \n",
    "    lat_intv = [40.56, 41.71]\n",
    "    lon_intv = [-74.27, -72.98]  \n",
    "    \n",
    "    idx_zero_plat = df[(df['pickup_latitude'] < lat_intv[0]) | (df['pickup_latitude'] > lat_intv[1])].index\n",
    "    df.drop(axis=0, index=idx_zero_plat, inplace=True)\n",
    "    del idx_zero_plat\n",
    "    \n",
    "    idx_zero_dlat = df[(df['dropoff_latitude'] < lat_intv[0]) | (df['dropoff_latitude'] > lat_intv[1])].index\n",
    "    df.drop(axis=0, index=idx_zero_dlat, inplace=True)\n",
    "    del idx_zero_dlat\n",
    "    \n",
    "    idx_zero_plon = df[(df['pickup_longitude'] > lon_intv[1]) | (df['pickup_longitude'] < lon_intv[0])].index\n",
    "    df.drop(axis=0, index=idx_zero_plon, inplace=True)\n",
    "    del idx_zero_plon\n",
    "\n",
    "    idx_zero_dlon = df[(df['dropoff_longitude'] > lon_intv[1]) | (df['dropoff_longitude'] < lon_intv[0])].index\n",
    "    df.drop(axis=0, index=idx_zero_dlon, inplace=True)\n",
    "    del idx_zero_dlon\n",
    "    \n",
    "    idx_invalid_passengers = df[(df['passenger_count'] > 6) | (df['passenger_count'] == 0)].index\n",
    "    df.drop(axis=0, index=idx_invalid_passengers, inplace=True)\n",
    "    del idx_invalid_passengers\n",
    "    \n",
    "    idx_below_min_fare = df[df['fare_amount'] < 2.5].index\n",
    "    df.drop(axis=0, index=idx_below_min_fare, inplace=True)\n",
    "    del idx_below_min_fare\n",
    "    \n",
    "    idx_cutoff_fare = df[df['fare_amount'] > 250].index\n",
    "    df.drop(axis=0, index=idx_cutoff_fare)\n",
    "    del idx_cutoff_fare "
   ]
  },
  {
   "cell_type": "code",
   "execution_count": 7,
   "metadata": {
    "scrolled": false
   },
   "outputs": [],
   "source": [
    "def process_datetime(df):\n",
    "    df['hour'] = df['pickup_datetime'].dt.hour\n",
    "    df['day'] = df['pickup_datetime'].dt.day\n",
    "    df['month'] = df['pickup_datetime'].dt.month\n",
    "    df['year'] = df['pickup_datetime'].dt.year - 2009\n",
    "    df['weekday'] = df['pickup_datetime'].dt.dayofweek\n",
    "    df.drop('pickup_datetime', axis=1, inplace=True)\n",
    "        \n",
    "def rename_columns(df):\n",
    "    cols = [\n",
    "        'fare',\n",
    "        'num_pass',\n",
    "        'year',\n",
    "        'hour',\n",
    "        'day',\n",
    "        'month',\n",
    "        'weekday',\n",
    "        'x0',\n",
    "        'x1',\n",
    "        'y0',\n",
    "        'y1'\n",
    "    ]\n",
    "\n",
    "    df.columns = cols\n",
    "    \n",
    "def distances(df):\n",
    "    df.loc[:, 'dist_e'] = np.sqrt((df.loc[:,'x1'] - df.loc[:,'x0'])**2 + (df.loc[:,'y1'] - df.loc[:,'y0'])**2)\n",
    "    df.loc[:, 'dist_t'] = abs(df.loc[:,'x1'] - df.loc[:,'x0']) + abs(df.loc[:,'y1'] - df.loc[:,'y0'])\n",
    "    \n",
    "def clean_train_2(df):\n",
    "    idx_unrealistic_fare = df[\n",
    "        ((df['fare'] < 3) & (df['dist_e'] > 0.01)) |\n",
    "        ((df['fare'] < 3) & (df['dist_t'] > 0.01)) |\n",
    "        ((df['fare'] > 100) & ( (df['dist_e'] < 0.1) | (df['dist_t'] < 0.1)))\n",
    "    ].index\n",
    "    df.drop(axis=0, index=idx_unrealistic_fare, inplace=True)\n",
    "    del idx_unrealistic_fare"
   ]
  },
  {
   "cell_type": "code",
   "execution_count": 4,
   "metadata": {},
   "outputs": [],
   "source": [
    "train = load_train()\n",
    "clean_train(train)\n",
    "process_datetime(train)"
   ]
  },
  {
   "cell_type": "code",
   "execution_count": 5,
   "metadata": {},
   "outputs": [],
   "source": [
    "cols = [\n",
    "    'fare_amount',\n",
    "    'passenger_count',        \n",
    "    'year',\n",
    "    'hour',\n",
    "    'day',\n",
    "    'month',\n",
    "    'weekday',\n",
    "    'pickup_longitude',\n",
    "    'dropoff_longitude',\n",
    "    'pickup_latitude',\n",
    "    'dropoff_latitude'\n",
    "]\n",
    "\n",
    "train = train[cols]"
   ]
  },
  {
   "cell_type": "code",
   "execution_count": null,
   "metadata": {
    "scrolled": true
   },
   "outputs": [],
   "source": [
    "rename_columns(train)\n",
    "distances(train)"
   ]
  },
  {
   "cell_type": "code",
   "execution_count": 8,
   "metadata": {},
   "outputs": [],
   "source": [
    "clean_train_2(train)"
   ]
  },
  {
   "cell_type": "code",
   "execution_count": 13,
   "metadata": {
    "scrolled": true
   },
   "outputs": [],
   "source": [
    "train.to_csv('../input/train_cleaned.csv')"
   ]
  },
  {
   "cell_type": "code",
   "execution_count": null,
   "metadata": {},
   "outputs": [],
   "source": []
  },
  {
   "cell_type": "code",
   "execution_count": null,
   "metadata": {},
   "outputs": [],
   "source": []
  },
  {
   "cell_type": "code",
   "execution_count": null,
   "metadata": {},
   "outputs": [],
   "source": []
  },
  {
   "cell_type": "code",
   "execution_count": null,
   "metadata": {},
   "outputs": [],
   "source": []
  },
  {
   "cell_type": "code",
   "execution_count": null,
   "metadata": {},
   "outputs": [],
   "source": []
  },
  {
   "cell_type": "code",
   "execution_count": null,
   "metadata": {},
   "outputs": [],
   "source": []
  },
  {
   "cell_type": "code",
   "execution_count": null,
   "metadata": {},
   "outputs": [],
   "source": []
  },
  {
   "cell_type": "code",
   "execution_count": null,
   "metadata": {},
   "outputs": [],
   "source": []
  },
  {
   "cell_type": "code",
   "execution_count": null,
   "metadata": {},
   "outputs": [],
   "source": []
  },
  {
   "cell_type": "code",
   "execution_count": null,
   "metadata": {},
   "outputs": [],
   "source": []
  },
  {
   "cell_type": "code",
   "execution_count": null,
   "metadata": {},
   "outputs": [],
   "source": []
  },
  {
   "cell_type": "code",
   "execution_count": null,
   "metadata": {},
   "outputs": [],
   "source": []
  },
  {
   "cell_type": "code",
   "execution_count": null,
   "metadata": {},
   "outputs": [],
   "source": []
  },
  {
   "cell_type": "code",
   "execution_count": null,
   "metadata": {},
   "outputs": [],
   "source": []
  }
 ],
 "metadata": {
  "kernelspec": {
   "display_name": "Python 3",
   "language": "python",
   "name": "python3"
  },
  "language_info": {
   "codemirror_mode": {
    "name": "ipython",
    "version": 3
   },
   "file_extension": ".py",
   "mimetype": "text/x-python",
   "name": "python",
   "nbconvert_exporter": "python",
   "pygments_lexer": "ipython3",
   "version": "3.6.5"
  }
 },
 "nbformat": 4,
 "nbformat_minor": 2
}
