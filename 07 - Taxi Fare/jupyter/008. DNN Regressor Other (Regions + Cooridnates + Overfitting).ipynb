{
 "cells": [
  {
   "cell_type": "code",
   "execution_count": 1,
   "metadata": {},
   "outputs": [],
   "source": [
    "import pandas as pd\n",
    "import numpy as np\n",
    "import seaborn as sns\n",
    "import matplotlib.pyplot as plt\n",
    "\n",
    "%matplotlib inline\n",
    "plt.rcParams['figure.figsize'] = (16,10)"
   ]
  },
  {
   "cell_type": "code",
   "execution_count": 2,
   "metadata": {},
   "outputs": [],
   "source": [
    "def read_csv(TRAIN_PATH):\n",
    "    chunksize = 5_000_000 # batch size\n",
    "    \n",
    "    traintypes = {\n",
    "        'fare': 'float32',\n",
    "        'from': 'str',\n",
    "        'to': 'str',\n",
    "        'p_count': 'uint8', \n",
    "        'hour': 'uint8',\n",
    "        'weekday': 'uint8',\n",
    "        'week': 'uint8',\n",
    "        'year': 'int16',\n",
    "        'dist_e': 'float32',\n",
    "        'dist_t': 'float32',\n",
    "        'x0': 'float32',\n",
    "        'x1': 'float32',\n",
    "        'y0': 'float32',\n",
    "        'y1': 'float32',\n",
    "    }\n",
    "    \n",
    "    cols = list(traintypes.keys())\n",
    "    \n",
    "    # loading the dataframe into list of small dataframes\n",
    "    df_list = []\n",
    "\n",
    "    for df_chunk in pd.read_csv(TRAIN_PATH, usecols=cols, dtype=traintypes, chunksize=chunksize):\n",
    "        df_list.append(df_chunk) \n",
    "        df = pd.concat(df_list)\n",
    "        \n",
    "    return df"
   ]
  },
  {
   "cell_type": "code",
   "execution_count": 3,
   "metadata": {},
   "outputs": [],
   "source": [
    "train = read_csv('../input/train_cleaned_2.csv')"
   ]
  },
  {
   "cell_type": "code",
   "execution_count": 4,
   "metadata": {},
   "outputs": [],
   "source": [
    "train = train[(train['from'] != 'Manhattan') & (train['to'] != 'Manhattan')]"
   ]
  },
  {
   "cell_type": "code",
   "execution_count": 5,
   "metadata": {},
   "outputs": [
    {
     "data": {
      "text/plain": [
       "(1823399, 14)"
      ]
     },
     "execution_count": 5,
     "metadata": {},
     "output_type": "execute_result"
    }
   ],
   "source": [
    "train.shape"
   ]
  },
  {
   "cell_type": "code",
   "execution_count": 6,
   "metadata": {},
   "outputs": [],
   "source": [
    "y = train['fare']\n",
    "X = train.drop(['fare'], axis=1)\n",
    "del train\n",
    "\n",
    "from sklearn.model_selection import train_test_split\n",
    "X_train, X_eval, y_train, y_eval = train_test_split(X, y, test_size=0.25, random_state=379582)\n",
    "\n",
    "del X,y"
   ]
  },
  {
   "cell_type": "code",
   "execution_count": 7,
   "metadata": {},
   "outputs": [],
   "source": [
    "import tensorflow as tf"
   ]
  },
  {
   "cell_type": "code",
   "execution_count": 8,
   "metadata": {},
   "outputs": [],
   "source": [
    "locations = [\n",
    "    'Manhattan', 'JFK', 'LaGardia', 'Newark', 'Teterboro', 'Brooklin', 'Bronx', 'Staten', 'Queens', 'Westchester',\n",
    "    'Nassau', 'Jersey', 'Bayonne', 'WStaton', 'West', 'WNewYork', 'North'        \n",
    "]\n",
    "\n",
    "# num_buckets = [0, num_buckets)\n",
    "p_count = tf.feature_column.numeric_column('p_count')\n",
    "taxicab = tf.feature_column.numeric_column('dist_t')\n",
    "euclidean = tf.feature_column.numeric_column('dist_e')\n",
    "\n",
    "x0 = tf.feature_column.numeric_column('x0')\n",
    "x1 = tf.feature_column.numeric_column('x1')\n",
    "y0 = tf.feature_column.numeric_column('y0')\n",
    "y1 = tf.feature_column.numeric_column('y1')\n",
    "\n",
    "numbuckets = 30\n",
    "dx = np.linspace(-74.27, -72.98, numbuckets).tolist()\n",
    "dy = np.linspace(40.56, 41.71, numbuckets).tolist()\n",
    "\n",
    "x0_B = tf.feature_column.bucketized_column(x0, dx)\n",
    "x1_B = tf.feature_column.bucketized_column(x1, dx)\n",
    "y0_B = tf.feature_column.bucketized_column(y0, dy)\n",
    "y1_B = tf.feature_column.bucketized_column(y1, dy)\n",
    "\n",
    "xy_0 = tf.feature_column.crossed_column([x0_B, y0_B], numbuckets * numbuckets)\n",
    "xy_1 = tf.feature_column.crossed_column([x1_B, y1_B], numbuckets * numbuckets)\n",
    "xy_pair = tf.feature_column.crossed_column([xy_0, xy_1], numbuckets**4)\n",
    "\n",
    "loc_from = tf.feature_column.categorical_column_with_vocabulary_list('from', locations)\n",
    "loc_to = tf.feature_column.categorical_column_with_vocabulary_list('to', locations)\n",
    "\n",
    "# definition of the categorical columns\n",
    "hour = tf.feature_column.categorical_column_with_identity('hour', num_buckets = 24)\n",
    "weekday = tf.feature_column.categorical_column_with_identity('weekday', num_buckets = 7)\n",
    "week = tf.feature_column.categorical_column_with_identity('week', num_buckets = 54)\n",
    "year = tf.feature_column.categorical_column_with_vocabulary_list('year', [2009, 2010, 2011, 2012, 2013, 2014, 2015])\n",
    "\n",
    "from_to = tf.feature_column.crossed_column([loc_from, loc_to], len(locations)**2)\n",
    "from_to_year = tf.feature_column.crossed_column([from_to, year], len(locations)**2 * 7)\n",
    "from_to_year_week = tf.feature_column.crossed_column([from_to_year, week], len(locations)**2 * 7 * 54)\n",
    "\n",
    "# definition of the feature crosses\n",
    "hour_weekday = tf.feature_column.crossed_column([hour, weekday], 24 * 7)\n",
    "weekday_week_year = tf.feature_column.crossed_column([weekday, week, year], 7 * 54 * 7)\n",
    "week_year = tf.feature_column.crossed_column([week, year], 54 * 7)\n",
    "weekday_year = tf.feature_column.crossed_column([weekday, year], 7 * 7)\n",
    "hour_weekday_year = tf.feature_column.crossed_column([hour, weekday, year], 24 * 7 * 7)"
   ]
  },
  {
   "cell_type": "code",
   "execution_count": 9,
   "metadata": {},
   "outputs": [],
   "source": [
    "deep_columns = [\n",
    "    # Embedding_column to \"group\" together ...\n",
    "    tf.feature_column.embedding_column(hour_weekday, 50),\n",
    "    tf.feature_column.embedding_column(weekday_week_year, 50),\n",
    "    tf.feature_column.embedding_column(week_year, 50),\n",
    "    tf.feature_column.embedding_column(weekday_year, 50),\n",
    "    tf.feature_column.embedding_column(hour_weekday_year, 50),\n",
    "    tf.feature_column.embedding_column(xy_pair, 50),\n",
    "    tf.feature_column.embedding_column(from_to, 50),\n",
    "    tf.feature_column.embedding_column(from_to_year, 50),\n",
    "    tf.feature_column.embedding_column(from_to_year_week, 50),\n",
    "\n",
    "    # indicator columns\n",
    "    tf.feature_column.indicator_column(hour),\n",
    "    tf.feature_column.indicator_column(weekday),\n",
    "    tf.feature_column.indicator_column(week),\n",
    "    tf.feature_column.indicator_column(year),\n",
    "    tf.feature_column.indicator_column(xy_0),\n",
    "    tf.feature_column.indicator_column(xy_1),\n",
    "    tf.feature_column.indicator_column(loc_from),\n",
    "    tf.feature_column.indicator_column(loc_to),\n",
    "\n",
    "    # numeric columns\n",
    "    taxicab, euclidean, p_count\n",
    "]"
   ]
  },
  {
   "cell_type": "code",
   "execution_count": 10,
   "metadata": {},
   "outputs": [],
   "source": [
    "def train_input_fn(features, labels, batch_size):\n",
    "    return tf.estimator.inputs.pandas_input_fn(\n",
    "        x = features,\n",
    "        y = labels,\n",
    "        num_epochs = 1,\n",
    "        shuffle = True,\n",
    "        batch_size = batch_size)\n",
    "\n",
    "def eval_input_fn(features, labels):\n",
    "    return tf.estimator.inputs.pandas_input_fn(\n",
    "        x = features,\n",
    "        y = labels,\n",
    "        num_epochs = 1,\n",
    "        shuffle = True)\n",
    "\n",
    "def pred_input_fn(features):\n",
    "    return tf.estimator.inputs.pandas_input_fn(\n",
    "        x = features,\n",
    "        num_epochs = 1,\n",
    "        shuffle = False)"
   ]
  },
  {
   "cell_type": "code",
   "execution_count": 11,
   "metadata": {},
   "outputs": [
    {
     "name": "stdout",
     "output_type": "stream",
     "text": [
      "INFO:tensorflow:Using default config.\n",
      "INFO:tensorflow:Using config: {'_model_dir': './DNN_Regressor_other', '_tf_random_seed': None, '_save_summary_steps': 100, '_save_checkpoints_steps': None, '_save_checkpoints_secs': 600, '_session_config': None, '_keep_checkpoint_max': 5, '_keep_checkpoint_every_n_hours': 10000, '_log_step_count_steps': 100, '_train_distribute': None, '_device_fn': None, '_service': None, '_cluster_spec': <tensorflow.python.training.server_lib.ClusterSpec object at 0x000001660D292EF0>, '_task_type': 'worker', '_task_id': 0, '_global_id_in_cluster': 0, '_master': '', '_evaluation_master': '', '_is_chief': True, '_num_ps_replicas': 0, '_num_worker_replicas': 1}\n"
     ]
    }
   ],
   "source": [
    "model_dir = './DNN_Regressor_other'\n",
    "\n",
    "file_writer = tf.summary.FileWriter(model_dir)\n",
    "\n",
    "estimator = tf.estimator.DNNRegressor(\n",
    "    model_dir = model_dir,\n",
    "    feature_columns = deep_columns,\n",
    "    optimizer = tf.train.AdamOptimizer(learning_rate=0.0001),\n",
    "    hidden_units = [128,128,128,128], \n",
    "    batch_norm = True,\n",
    ")"
   ]
  },
  {
   "cell_type": "code",
   "execution_count": 12,
   "metadata": {},
   "outputs": [],
   "source": [
    "train_spec = tf.estimator.TrainSpec(input_fn = train_input_fn(X_train, y_train, batch_size=2500))\n",
    "eval_spec = tf.estimator.EvalSpec(input_fn = eval_input_fn(X_eval, y_eval))"
   ]
  },
  {
   "cell_type": "code",
   "execution_count": 15,
   "metadata": {
    "scrolled": true
   },
   "outputs": [
    {
     "name": "stdout",
     "output_type": "stream",
     "text": [
      "INFO:tensorflow:Running training and evaluation locally (non-distributed).\n",
      "INFO:tensorflow:Start train and evaluate loop. The evaluate will happen after every checkpoint. Checkpoint frequency is determined based on RunConfig arguments: save_checkpoints_steps None or save_checkpoints_secs 600.\n",
      "INFO:tensorflow:Calling model_fn.\n",
      "INFO:tensorflow:Done calling model_fn.\n",
      "INFO:tensorflow:Create CheckpointSaverHook.\n",
      "INFO:tensorflow:Graph was finalized.\n",
      "INFO:tensorflow:Restoring parameters from ./DNN_Regressor_other\\model.ckpt-3288\n",
      "INFO:tensorflow:Running local_init_op.\n",
      "INFO:tensorflow:Done running local_init_op.\n",
      "INFO:tensorflow:Saving checkpoints for 3288 into ./DNN_Regressor_other\\model.ckpt.\n",
      "INFO:tensorflow:loss = 104533.45, step = 3288\n",
      "INFO:tensorflow:global_step/sec: 6.54138\n",
      "INFO:tensorflow:loss = 122265.57, step = 3388 (15.288 sec)\n",
      "INFO:tensorflow:global_step/sec: 7.21132\n",
      "INFO:tensorflow:loss = 99859.164, step = 3488 (13.867 sec)\n",
      "INFO:tensorflow:global_step/sec: 7.11938\n",
      "INFO:tensorflow:loss = 150818.64, step = 3588 (14.045 sec)\n",
      "INFO:tensorflow:global_step/sec: 7.37295\n",
      "INFO:tensorflow:loss = 156370.66, step = 3688 (13.564 sec)\n",
      "INFO:tensorflow:global_step/sec: 7.26951\n",
      "INFO:tensorflow:loss = 128508.85, step = 3788 (13.756 sec)\n",
      "INFO:tensorflow:Saving checkpoints for 3836 into ./DNN_Regressor_other\\model.ckpt.\n",
      "INFO:tensorflow:Calling model_fn.\n",
      "INFO:tensorflow:Done calling model_fn.\n",
      "INFO:tensorflow:Starting evaluation at 2018-09-05-00:49:31\n",
      "INFO:tensorflow:Graph was finalized.\n",
      "INFO:tensorflow:Restoring parameters from ./DNN_Regressor_other\\model.ckpt-3836\n",
      "INFO:tensorflow:Running local_init_op.\n",
      "INFO:tensorflow:Done running local_init_op.\n",
      "INFO:tensorflow:Evaluation [10/100]\n",
      "INFO:tensorflow:Evaluation [20/100]\n",
      "INFO:tensorflow:Evaluation [30/100]\n",
      "INFO:tensorflow:Evaluation [40/100]\n",
      "INFO:tensorflow:Evaluation [50/100]\n",
      "INFO:tensorflow:Evaluation [60/100]\n",
      "INFO:tensorflow:Evaluation [70/100]\n",
      "INFO:tensorflow:Evaluation [80/100]\n",
      "INFO:tensorflow:Evaluation [90/100]\n",
      "INFO:tensorflow:Evaluation [100/100]\n",
      "INFO:tensorflow:Finished evaluation at 2018-09-05-00:49:35\n",
      "INFO:tensorflow:Saving dict for global step 3836: average_loss = 88.46617, global_step = 3836, label/mean = 15.995528, loss = 11323.67, prediction/mean = 14.065982\n",
      "INFO:tensorflow:Saving 'checkpoint_path' summary for global step 3836: ./DNN_Regressor_other\\model.ckpt-3836\n",
      "INFO:tensorflow:Loss for final step: 4939.3193.\n",
      "INFO:tensorflow:Running training and evaluation locally (non-distributed).\n",
      "INFO:tensorflow:Start train and evaluate loop. The evaluate will happen after every checkpoint. Checkpoint frequency is determined based on RunConfig arguments: save_checkpoints_steps None or save_checkpoints_secs 600.\n",
      "INFO:tensorflow:Calling model_fn.\n",
      "INFO:tensorflow:Done calling model_fn.\n",
      "INFO:tensorflow:Create CheckpointSaverHook.\n",
      "INFO:tensorflow:Graph was finalized.\n",
      "INFO:tensorflow:Restoring parameters from ./DNN_Regressor_other\\model.ckpt-3836\n",
      "INFO:tensorflow:Running local_init_op.\n",
      "INFO:tensorflow:Done running local_init_op.\n",
      "INFO:tensorflow:Saving checkpoints for 3836 into ./DNN_Regressor_other\\model.ckpt.\n",
      "INFO:tensorflow:loss = 120003.09, step = 3836\n",
      "INFO:tensorflow:global_step/sec: 6.59443\n",
      "INFO:tensorflow:loss = 124024.49, step = 3936 (15.165 sec)\n",
      "INFO:tensorflow:global_step/sec: 7.00683\n",
      "INFO:tensorflow:loss = 129419.09, step = 4036 (14.279 sec)\n",
      "INFO:tensorflow:global_step/sec: 6.98176\n",
      "INFO:tensorflow:loss = 118910.88, step = 4136 (14.316 sec)\n",
      "INFO:tensorflow:global_step/sec: 7.18204\n",
      "INFO:tensorflow:loss = 112618.66, step = 4236 (13.924 sec)\n",
      "INFO:tensorflow:global_step/sec: 7.12845\n",
      "INFO:tensorflow:loss = 143401.97, step = 4336 (14.027 sec)\n",
      "INFO:tensorflow:Saving checkpoints for 4384 into ./DNN_Regressor_other\\model.ckpt.\n",
      "INFO:tensorflow:Calling model_fn.\n",
      "INFO:tensorflow:Done calling model_fn.\n",
      "INFO:tensorflow:Starting evaluation at 2018-09-05-00:51:08\n",
      "INFO:tensorflow:Graph was finalized.\n",
      "INFO:tensorflow:Restoring parameters from ./DNN_Regressor_other\\model.ckpt-4384\n",
      "INFO:tensorflow:Running local_init_op.\n",
      "INFO:tensorflow:Done running local_init_op.\n",
      "INFO:tensorflow:Evaluation [10/100]\n",
      "INFO:tensorflow:Evaluation [20/100]\n",
      "INFO:tensorflow:Evaluation [30/100]\n",
      "INFO:tensorflow:Evaluation [40/100]\n",
      "INFO:tensorflow:Evaluation [50/100]\n",
      "INFO:tensorflow:Evaluation [60/100]\n",
      "INFO:tensorflow:Evaluation [70/100]\n",
      "INFO:tensorflow:Evaluation [80/100]\n",
      "INFO:tensorflow:Evaluation [90/100]\n",
      "INFO:tensorflow:Evaluation [100/100]\n",
      "INFO:tensorflow:Finished evaluation at 2018-09-05-00:51:12\n",
      "INFO:tensorflow:Saving dict for global step 4384: average_loss = 100.895615, global_step = 4384, label/mean = 16.018713, loss = 12914.639, prediction/mean = 13.846051\n",
      "INFO:tensorflow:Saving 'checkpoint_path' summary for global step 4384: ./DNN_Regressor_other\\model.ckpt-4384\n",
      "INFO:tensorflow:Loss for final step: 2695.8774.\n",
      "INFO:tensorflow:Running training and evaluation locally (non-distributed).\n",
      "INFO:tensorflow:Start train and evaluate loop. The evaluate will happen after every checkpoint. Checkpoint frequency is determined based on RunConfig arguments: save_checkpoints_steps None or save_checkpoints_secs 600.\n",
      "INFO:tensorflow:Calling model_fn.\n",
      "INFO:tensorflow:Done calling model_fn.\n",
      "INFO:tensorflow:Create CheckpointSaverHook.\n",
      "INFO:tensorflow:Graph was finalized.\n",
      "INFO:tensorflow:Restoring parameters from ./DNN_Regressor_other\\model.ckpt-4384\n",
      "INFO:tensorflow:Running local_init_op.\n",
      "INFO:tensorflow:Done running local_init_op.\n",
      "INFO:tensorflow:Saving checkpoints for 4384 into ./DNN_Regressor_other\\model.ckpt.\n",
      "INFO:tensorflow:loss = 125242.49, step = 4384\n",
      "INFO:tensorflow:global_step/sec: 6.60466\n",
      "INFO:tensorflow:loss = 109125.39, step = 4484 (15.141 sec)\n",
      "INFO:tensorflow:global_step/sec: 7.37127\n",
      "INFO:tensorflow:loss = 151998.81, step = 4584 (13.566 sec)\n",
      "INFO:tensorflow:global_step/sec: 7.20229\n",
      "INFO:tensorflow:loss = 85248.445, step = 4684 (13.884 sec)\n",
      "INFO:tensorflow:global_step/sec: 7.17068\n",
      "INFO:tensorflow:loss = 137216.0, step = 4784 (13.955 sec)\n",
      "INFO:tensorflow:global_step/sec: 7.27217\n",
      "INFO:tensorflow:loss = 288015.62, step = 4884 (13.742 sec)\n",
      "INFO:tensorflow:Saving checkpoints for 4932 into ./DNN_Regressor_other\\model.ckpt.\n",
      "INFO:tensorflow:Calling model_fn.\n",
      "INFO:tensorflow:Done calling model_fn.\n",
      "INFO:tensorflow:Starting evaluation at 2018-09-05-00:52:43\n",
      "INFO:tensorflow:Graph was finalized.\n",
      "INFO:tensorflow:Restoring parameters from ./DNN_Regressor_other\\model.ckpt-4932\n",
      "INFO:tensorflow:Running local_init_op.\n",
      "INFO:tensorflow:Done running local_init_op.\n",
      "INFO:tensorflow:Evaluation [10/100]\n",
      "INFO:tensorflow:Evaluation [20/100]\n",
      "INFO:tensorflow:Evaluation [30/100]\n",
      "INFO:tensorflow:Evaluation [40/100]\n",
      "INFO:tensorflow:Evaluation [50/100]\n",
      "INFO:tensorflow:Evaluation [60/100]\n",
      "INFO:tensorflow:Evaluation [70/100]\n",
      "INFO:tensorflow:Evaluation [80/100]\n",
      "INFO:tensorflow:Evaluation [90/100]\n",
      "INFO:tensorflow:Evaluation [100/100]\n",
      "INFO:tensorflow:Finished evaluation at 2018-09-05-00:52:47\n",
      "INFO:tensorflow:Saving dict for global step 4932: average_loss = 110.76391, global_step = 4932, label/mean = 16.086893, loss = 14177.78, prediction/mean = 14.142586\n",
      "INFO:tensorflow:Saving 'checkpoint_path' summary for global step 4932: ./DNN_Regressor_other\\model.ckpt-4932\n",
      "INFO:tensorflow:Loss for final step: 1321.8936.\n",
      "INFO:tensorflow:Running training and evaluation locally (non-distributed).\n",
      "INFO:tensorflow:Start train and evaluate loop. The evaluate will happen after every checkpoint. Checkpoint frequency is determined based on RunConfig arguments: save_checkpoints_steps None or save_checkpoints_secs 600.\n",
      "INFO:tensorflow:Calling model_fn.\n",
      "INFO:tensorflow:Done calling model_fn.\n",
      "INFO:tensorflow:Create CheckpointSaverHook.\n",
      "INFO:tensorflow:Graph was finalized.\n",
      "INFO:tensorflow:Restoring parameters from ./DNN_Regressor_other\\model.ckpt-4932\n",
      "INFO:tensorflow:Running local_init_op.\n",
      "INFO:tensorflow:Done running local_init_op.\n",
      "INFO:tensorflow:Saving checkpoints for 4932 into ./DNN_Regressor_other\\model.ckpt.\n",
      "INFO:tensorflow:loss = 149746.55, step = 4932\n",
      "INFO:tensorflow:global_step/sec: 6.70238\n",
      "INFO:tensorflow:loss = 112193.414, step = 5032 (14.922 sec)\n",
      "INFO:tensorflow:global_step/sec: 7.10403\n",
      "INFO:tensorflow:loss = 119065.5, step = 5132 (14.075 sec)\n",
      "INFO:tensorflow:global_step/sec: 7.26692\n",
      "INFO:tensorflow:loss = 119513.45, step = 5232 (13.762 sec)\n"
     ]
    },
    {
     "name": "stdout",
     "output_type": "stream",
     "text": [
      "INFO:tensorflow:global_step/sec: 7.25748\n",
      "INFO:tensorflow:loss = 133759.34, step = 5332 (13.779 sec)\n",
      "INFO:tensorflow:global_step/sec: 7.34649\n",
      "INFO:tensorflow:loss = 92584.3, step = 5432 (13.612 sec)\n",
      "INFO:tensorflow:Saving checkpoints for 5480 into ./DNN_Regressor_other\\model.ckpt.\n",
      "INFO:tensorflow:Calling model_fn.\n",
      "INFO:tensorflow:Done calling model_fn.\n",
      "INFO:tensorflow:Starting evaluation at 2018-09-05-00:54:18\n",
      "INFO:tensorflow:Graph was finalized.\n",
      "INFO:tensorflow:Restoring parameters from ./DNN_Regressor_other\\model.ckpt-5480\n",
      "INFO:tensorflow:Running local_init_op.\n",
      "INFO:tensorflow:Done running local_init_op.\n",
      "INFO:tensorflow:Evaluation [10/100]\n",
      "INFO:tensorflow:Evaluation [20/100]\n",
      "INFO:tensorflow:Evaluation [30/100]\n",
      "INFO:tensorflow:Evaluation [40/100]\n",
      "INFO:tensorflow:Evaluation [50/100]\n",
      "INFO:tensorflow:Evaluation [60/100]\n",
      "INFO:tensorflow:Evaluation [70/100]\n",
      "INFO:tensorflow:Evaluation [80/100]\n",
      "INFO:tensorflow:Evaluation [90/100]\n",
      "INFO:tensorflow:Evaluation [100/100]\n",
      "INFO:tensorflow:Finished evaluation at 2018-09-05-00:54:21\n",
      "INFO:tensorflow:Saving dict for global step 5480: average_loss = 87.43554, global_step = 5480, label/mean = 16.11071, loss = 11191.749, prediction/mean = 14.545996\n",
      "INFO:tensorflow:Saving 'checkpoint_path' summary for global step 5480: ./DNN_Regressor_other\\model.ckpt-5480\n",
      "INFO:tensorflow:Loss for final step: 1414.486.\n",
      "INFO:tensorflow:Running training and evaluation locally (non-distributed).\n",
      "INFO:tensorflow:Start train and evaluate loop. The evaluate will happen after every checkpoint. Checkpoint frequency is determined based on RunConfig arguments: save_checkpoints_steps None or save_checkpoints_secs 600.\n",
      "INFO:tensorflow:Calling model_fn.\n",
      "INFO:tensorflow:Done calling model_fn.\n",
      "INFO:tensorflow:Create CheckpointSaverHook.\n",
      "INFO:tensorflow:Graph was finalized.\n",
      "INFO:tensorflow:Restoring parameters from ./DNN_Regressor_other\\model.ckpt-5480\n",
      "INFO:tensorflow:Running local_init_op.\n",
      "INFO:tensorflow:Done running local_init_op.\n",
      "INFO:tensorflow:Saving checkpoints for 5480 into ./DNN_Regressor_other\\model.ckpt.\n",
      "INFO:tensorflow:loss = 242460.98, step = 5480\n",
      "INFO:tensorflow:global_step/sec: 6.60786\n",
      "INFO:tensorflow:loss = 146460.88, step = 5580 (15.135 sec)\n",
      "INFO:tensorflow:global_step/sec: 7.31093\n",
      "INFO:tensorflow:loss = 107810.37, step = 5680 (13.677 sec)\n",
      "INFO:tensorflow:global_step/sec: 7.31799\n",
      "INFO:tensorflow:loss = 116345.6, step = 5780 (13.665 sec)\n",
      "INFO:tensorflow:global_step/sec: 7.32564\n",
      "INFO:tensorflow:loss = 106351.33, step = 5880 (13.652 sec)\n",
      "INFO:tensorflow:global_step/sec: 7.32625\n",
      "INFO:tensorflow:loss = 96647.91, step = 5980 (13.649 sec)\n",
      "INFO:tensorflow:Saving checkpoints for 6028 into ./DNN_Regressor_other\\model.ckpt.\n",
      "INFO:tensorflow:Calling model_fn.\n",
      "INFO:tensorflow:Done calling model_fn.\n",
      "INFO:tensorflow:Starting evaluation at 2018-09-05-00:55:53\n",
      "INFO:tensorflow:Graph was finalized.\n",
      "INFO:tensorflow:Restoring parameters from ./DNN_Regressor_other\\model.ckpt-6028\n",
      "INFO:tensorflow:Running local_init_op.\n",
      "INFO:tensorflow:Done running local_init_op.\n",
      "INFO:tensorflow:Evaluation [10/100]\n",
      "INFO:tensorflow:Evaluation [20/100]\n",
      "INFO:tensorflow:Evaluation [30/100]\n",
      "INFO:tensorflow:Evaluation [40/100]\n",
      "INFO:tensorflow:Evaluation [50/100]\n",
      "INFO:tensorflow:Evaluation [60/100]\n",
      "INFO:tensorflow:Evaluation [70/100]\n",
      "INFO:tensorflow:Evaluation [80/100]\n",
      "INFO:tensorflow:Evaluation [90/100]\n",
      "INFO:tensorflow:Evaluation [100/100]\n",
      "INFO:tensorflow:Finished evaluation at 2018-09-05-00:55:56\n",
      "INFO:tensorflow:Saving dict for global step 6028: average_loss = 87.74338, global_step = 6028, label/mean = 16.172169, loss = 11231.152, prediction/mean = 14.024864\n",
      "INFO:tensorflow:Saving 'checkpoint_path' summary for global step 6028: ./DNN_Regressor_other\\model.ckpt-6028\n",
      "INFO:tensorflow:Loss for final step: 1843.3809.\n"
     ]
    }
   ],
   "source": [
    "for i in range(5):\n",
    "    tf.estimator.train_and_evaluate(estimator, train_spec, eval_spec)"
   ]
  },
  {
   "cell_type": "code",
   "execution_count": 16,
   "metadata": {},
   "outputs": [
    {
     "name": "stdout",
     "output_type": "stream",
     "text": [
      "INFO:tensorflow:Calling model_fn.\n",
      "INFO:tensorflow:Done calling model_fn.\n",
      "INFO:tensorflow:Graph was finalized.\n",
      "INFO:tensorflow:Restoring parameters from ./DNN_Regressor_other\\model.ckpt-6028\n",
      "INFO:tensorflow:Running local_init_op.\n",
      "INFO:tensorflow:Done running local_init_op.\n"
     ]
    }
   ],
   "source": [
    "infer = pd.read_csv('../input/test_processed.csv', index_col='key')\n",
    "\n",
    "generator = estimator.predict(input_fn=pred_input_fn(infer))\n",
    "predictions = [next(generator) for i in range(len(infer))]\n",
    "values = [val['predictions'].tolist()[0] for val in predictions]\n",
    "\n",
    "ids = infer.index\n",
    "submission = pd.DataFrame()\n",
    "submission['fare_amount'] = values\n",
    "submission['key'] = ids\n",
    "submission.set_index('key', inplace=True)"
   ]
  },
  {
   "cell_type": "code",
   "execution_count": 18,
   "metadata": {},
   "outputs": [],
   "source": [
    "submission2 = pd.read_csv('../output/20.dnn_regressor_manhattan_other_best_rmse_(2.43+3.01).csv', index_col='key')"
   ]
  },
  {
   "cell_type": "code",
   "execution_count": 19,
   "metadata": {
    "scrolled": true
   },
   "outputs": [],
   "source": [
    "mht = infer[(infer['from'] == 'Manhattan') & (infer['to'] == 'Manhattan')].index"
   ]
  },
  {
   "cell_type": "code",
   "execution_count": 20,
   "metadata": {},
   "outputs": [],
   "source": [
    "submission.loc[mht, 'fare_amount'] = submission2.loc[mht, 'fare_amount']"
   ]
  },
  {
   "cell_type": "code",
   "execution_count": null,
   "metadata": {},
   "outputs": [],
   "source": []
  },
  {
   "cell_type": "code",
   "execution_count": 21,
   "metadata": {},
   "outputs": [],
   "source": [
    "submission.to_csv('../output/21.dnn_regressor_manhattan_other_dnn_regressor_rmse_(2.43+9.36).csv')"
   ]
  },
  {
   "cell_type": "code",
   "execution_count": null,
   "metadata": {},
   "outputs": [],
   "source": []
  }
 ],
 "metadata": {
  "kernelspec": {
   "display_name": "Python 3",
   "language": "python",
   "name": "python3"
  },
  "language_info": {
   "codemirror_mode": {
    "name": "ipython",
    "version": 3
   },
   "file_extension": ".py",
   "mimetype": "text/x-python",
   "name": "python",
   "nbconvert_exporter": "python",
   "pygments_lexer": "ipython3",
   "version": "3.6.6"
  }
 },
 "nbformat": 4,
 "nbformat_minor": 2
}
