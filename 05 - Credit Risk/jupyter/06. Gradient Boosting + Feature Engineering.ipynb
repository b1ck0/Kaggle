{
 "cells": [
  {
   "cell_type": "code",
   "execution_count": 204,
   "metadata": {},
   "outputs": [],
   "source": [
    "import numpy as np\n",
    "import pandas as pd\n",
    "import seaborn as sns\n",
    "import matplotlib.pyplot as plt\n",
    "\n",
    "from sklearn import preprocessing\n",
    "from sklearn.cross_validation import train_test_split\n",
    "from sklearn.ensemble import GradientBoostingClassifier\n",
    "from sklearn.metrics import classification_report, confusion_matrix, roc_auc_score, roc_curve\n",
    "\n",
    "%matplotlib inline"
   ]
  },
  {
   "cell_type": "code",
   "execution_count": 205,
   "metadata": {},
   "outputs": [],
   "source": [
    "# loading train dataset\n",
    "train_csv = pd.read_csv('../input/application_train.csv.zip', compression='infer')"
   ]
  },
  {
   "cell_type": "code",
   "execution_count": 206,
   "metadata": {},
   "outputs": [],
   "source": [
    "# removing 5 rows\n",
    "train_csv = train_csv[train_csv['NAME_INCOME_TYPE'] != 'Maternity leave']\n",
    "\n",
    "# removing 4 rows\n",
    "train_csv = train_csv[train_csv['NAME_FAMILY_STATUS'] != 'Unknown']\n",
    "\n",
    "# removing 2 rows\n",
    "train_csv = train_csv[train_csv['CODE_GENDER'] != 'XNA']"
   ]
  },
  {
   "cell_type": "code",
   "execution_count": 207,
   "metadata": {
    "scrolled": false
   },
   "outputs": [],
   "source": [
    "# loading history data\n",
    "installments = pd.read_csv('../input/installments_payments.csv.zip', compression='infer')\n",
    "previous = pd.read_csv('../input/previous_application.csv.zip', compression='infer')\n",
    "bureau = pd.read_csv('../input/bureau.csv.zip', compression='infer')"
   ]
  },
  {
   "cell_type": "code",
   "execution_count": 208,
   "metadata": {},
   "outputs": [],
   "source": [
    "# loading balance data\n",
    "credit_card_balance = pd.read_csv('../input/credit_card_balance.csv.zip', compression='infer')\n",
    "#bureau_balance = pd.read_csv('../input/bureau_balance.csv.zip', compression='infer')\n",
    "cash_balance = pd.read_csv('../input/POS_CASH_balance.csv.zip', compression='infer')"
   ]
  },
  {
   "cell_type": "code",
   "execution_count": 209,
   "metadata": {},
   "outputs": [],
   "source": [
    "def aggregate_df(df, value, func, labels, by='SK_ID_CURR', column=None):\n",
    "    \n",
    "    if column != None:\n",
    "        pivoted = df.pivot_table(index=by, \n",
    "                                 columns=column, \n",
    "                                 values=value, \n",
    "                                 aggfunc=func, \n",
    "                                 fill_value=0, \n",
    "                                 dropna=False)\n",
    "    else:\n",
    "        pivoted = df.pivot_table(index=by, \n",
    "                                 values=value, \n",
    "                                 aggfunc=func, \n",
    "                                 fill_value=0, \n",
    "                                 dropna=False)\n",
    "        \n",
    "    pivoted_df = pd.DataFrame(pivoted.to_records())\n",
    "    \n",
    "    pivoted_df.rename(columns=labels, inplace=True)\n",
    "    \n",
    "    return pivoted_df"
   ]
  },
  {
   "cell_type": "code",
   "execution_count": 210,
   "metadata": {},
   "outputs": [],
   "source": [
    "X = train_csv\n",
    "X.set_index('SK_ID_CURR',inplace=True)"
   ]
  },
  {
   "cell_type": "code",
   "execution_count": 211,
   "metadata": {},
   "outputs": [],
   "source": [
    "labels = {\n",
    "          'Active'   : 'CNT_ACTIVE_LOANS',\n",
    "          'Bad debt' : 'CNT_BAD_DEBT',\n",
    "          'Closed'   : 'CNT_CLOSED_DEBT',\n",
    "          'Sold'     : 'CNT_SOLD_DEBT'\n",
    "         }\n",
    "\n",
    "cnt_loans = aggregate_df(df=bureau, value='CREDIT_TYPE', column='CREDIT_ACTIVE', func='count', labels=labels)\n",
    "\n",
    "labels = {\n",
    "          'Active'   : 'AMT_ACTIVE_LOANS',\n",
    "          'Bad debt' : 'AMT_BAD_DEBT',\n",
    "          'Closed'   : 'AMT_CLOSED_DEBT',\n",
    "          'Sold'     : 'AMT_SOLD_DEBT'\n",
    "         }\n",
    "\n",
    "amt_loans = aggregate_df(df=bureau, value='AMT_CREDIT_SUM', column='CREDIT_ACTIVE', func='sum', labels=labels)\n",
    "\n",
    "labels = {\n",
    "          'OVERDUE'   : 'MAX_OVERDUE'\n",
    "         }\n",
    "\n",
    "installments['OVERDUE'] = installments['DAYS_ENTRY_PAYMENT'] - installments['DAYS_INSTALMENT']\n",
    "max_overdue = aggregate_df(df=installments, value='OVERDUE', func='max', labels=labels)\n",
    "\n",
    "labels = {\n",
    "          'CNT_INSTALMENT_FUTURE'   : 'CNT_FUTURE_INSTALLMENTS'\n",
    "         }\n",
    "\n",
    "cnt_future_installments = aggregate_df(df=cash_balance, value='CNT_INSTALMENT_FUTURE', func='sum', labels=labels)\n",
    "\n",
    "labels = {\n",
    "          'Approved'     : 'CNT_LOANS_APPROVED',\n",
    "          'Canceled'     : 'CNT_LOANS_CANCELLED',\n",
    "          'Refused'      : 'CNT_LOANS_REFUSED',\n",
    "          'Unused offer' : 'CNT_UNUSED_OFFERS'\n",
    "         }\n",
    "\n",
    "cnt_prev_loans = aggregate_df(df=previous, \n",
    "                              value='NAME_CONTRACT_TYPE', column='NAME_CONTRACT_STATUS', func='count', labels=labels)\n",
    "\n",
    "labels = {\n",
    "          'CNT_DRAWINGS_CURRENT'   : 'CNT_CC_DRAWINGS'\n",
    "         }\n",
    "\n",
    "cc_draw_cnt = aggregate_df(df=credit_card_balance,\n",
    "                          value='CNT_DRAWINGS_CURRENT', func='sum', labels=labels)\n",
    "\n",
    "cc_balance = pd.DataFrame(credit_card_balance.pivot_table(index='SK_ID_CURR', \n",
    "                                             values=['AMT_PAYMENT_TOTAL_CURRENT'], \n",
    "                                             columns='MONTHS_BALANCE',\n",
    "                                             aggfunc='mean').to_records())[['SK_ID_CURR',\"('AMT_PAYMENT_TOTAL_CURRENT', -1)\"]]\n",
    "\n",
    "cc_balance.columns = ['SK_ID_CURR', 'CREDIT_CARD_BALANCE']\n",
    "\n",
    "X = pd.concat([X, cnt_loans], axis=1, join='outer', join_axes=[X.index])\n",
    "X = pd.concat([X, amt_loans], axis=1, join='outer', join_axes=[X.index])\n",
    "X = pd.concat([X, max_overdue], axis=1, join='outer', join_axes=[X.index])\n",
    "X = pd.concat([X, cnt_future_installments], axis=1, join='outer', join_axes=[X.index])\n",
    "X = pd.concat([X, cnt_prev_loans], axis=1, join='outer', join_axes=[X.index])\n",
    "X = pd.concat([X, cc_draw_cnt], axis=1, join='outer', join_axes=[X.index])\n",
    "X = pd.concat([X, cc_balance], axis=1, join='outer', join_axes=[X.index])\n",
    "\n",
    "del cnt_loans, amt_loans, max_overdue, cnt_future_installments, cnt_prev_loans, cc_balance, cc_draw_cnt\n",
    "del previous, cash_balance, installments, bureau, credit_card_balance"
   ]
  },
  {
   "cell_type": "code",
   "execution_count": null,
   "metadata": {},
   "outputs": [],
   "source": []
  },
  {
   "cell_type": "code",
   "execution_count": null,
   "metadata": {
    "scrolled": false
   },
   "outputs": [],
   "source": []
  },
  {
   "cell_type": "code",
   "execution_count": null,
   "metadata": {},
   "outputs": [],
   "source": []
  },
  {
   "cell_type": "code",
   "execution_count": null,
   "metadata": {},
   "outputs": [],
   "source": []
  },
  {
   "cell_type": "code",
   "execution_count": null,
   "metadata": {},
   "outputs": [],
   "source": []
  },
  {
   "cell_type": "code",
   "execution_count": null,
   "metadata": {},
   "outputs": [],
   "source": []
  },
  {
   "cell_type": "code",
   "execution_count": null,
   "metadata": {},
   "outputs": [],
   "source": []
  },
  {
   "cell_type": "code",
   "execution_count": null,
   "metadata": {},
   "outputs": [],
   "source": []
  },
  {
   "cell_type": "code",
   "execution_count": null,
   "metadata": {},
   "outputs": [],
   "source": []
  },
  {
   "cell_type": "code",
   "execution_count": null,
   "metadata": {},
   "outputs": [],
   "source": []
  },
  {
   "cell_type": "code",
   "execution_count": null,
   "metadata": {},
   "outputs": [],
   "source": []
  },
  {
   "cell_type": "code",
   "execution_count": 212,
   "metadata": {},
   "outputs": [],
   "source": [
    "# assigning X,y\n",
    "y = X['TARGET']\n",
    "X = pd.get_dummies(X.drop(['TARGET','SK_ID_CURR'], axis=1), dummy_na=True)"
   ]
  },
  {
   "cell_type": "code",
   "execution_count": null,
   "metadata": {},
   "outputs": [],
   "source": []
  },
  {
   "cell_type": "code",
   "execution_count": 213,
   "metadata": {},
   "outputs": [],
   "source": [
    "X_train, X_test, y_train, y_test = train_test_split(X, y, test_size=0.33)"
   ]
  },
  {
   "cell_type": "code",
   "execution_count": null,
   "metadata": {},
   "outputs": [],
   "source": []
  },
  {
   "cell_type": "code",
   "execution_count": 214,
   "metadata": {},
   "outputs": [],
   "source": [
    "gboost_baseline = GradientBoostingClassifier(n_estimators=200)"
   ]
  },
  {
   "cell_type": "code",
   "execution_count": 215,
   "metadata": {},
   "outputs": [
    {
     "data": {
      "text/plain": [
       "GradientBoostingClassifier(criterion='friedman_mse', init=None,\n",
       "              learning_rate=0.1, loss='deviance', max_depth=3,\n",
       "              max_features=None, max_leaf_nodes=None,\n",
       "              min_impurity_decrease=0.0, min_impurity_split=None,\n",
       "              min_samples_leaf=1, min_samples_split=2,\n",
       "              min_weight_fraction_leaf=0.0, n_estimators=200,\n",
       "              presort='auto', random_state=None, subsample=1.0, verbose=0,\n",
       "              warm_start=False)"
      ]
     },
     "execution_count": 215,
     "metadata": {},
     "output_type": "execute_result"
    }
   ],
   "source": [
    "gboost_baseline.fit(X_train.fillna(value=0), y_train)"
   ]
  },
  {
   "cell_type": "code",
   "execution_count": 216,
   "metadata": {},
   "outputs": [],
   "source": [
    "predictions = gboost_baseline.predict(X_test.fillna(0))\n",
    "pred_prob = gboost_baseline.predict_proba(X_test.fillna(0))"
   ]
  },
  {
   "cell_type": "code",
   "execution_count": 217,
   "metadata": {},
   "outputs": [
    {
     "name": "stdout",
     "output_type": "stream",
     "text": [
      "             precision    recall  f1-score   support\n",
      "\n",
      "          0       0.92      1.00      0.96     93220\n",
      "          1       0.51      0.02      0.03      8255\n",
      "\n",
      "avg / total       0.89      0.92      0.88    101475\n",
      "\n"
     ]
    }
   ],
   "source": [
    "print(classification_report(y_test, predictions))"
   ]
  },
  {
   "cell_type": "code",
   "execution_count": 218,
   "metadata": {},
   "outputs": [
    {
     "name": "stdout",
     "output_type": "stream",
     "text": [
      "[[93083   137]\n",
      " [ 8112   143]]\n"
     ]
    }
   ],
   "source": [
    "print(confusion_matrix(y_test, predictions))"
   ]
  },
  {
   "cell_type": "code",
   "execution_count": 219,
   "metadata": {
    "scrolled": true
   },
   "outputs": [
    {
     "data": {
      "text/plain": [
       "0.7532305088124444"
      ]
     },
     "execution_count": 219,
     "metadata": {},
     "output_type": "execute_result"
    }
   ],
   "source": [
    "roc_auc_score(y_test, pred_prob[:,1])"
   ]
  },
  {
   "cell_type": "code",
   "execution_count": 220,
   "metadata": {},
   "outputs": [],
   "source": [
    "fpr, tpr, thresholds = roc_curve(y_test, pred_prob[:,1])"
   ]
  },
  {
   "cell_type": "code",
   "execution_count": 221,
   "metadata": {},
   "outputs": [
    {
     "data": {
      "text/plain": [
       "<matplotlib.legend.Legend at 0x17325344898>"
      ]
     },
     "execution_count": 221,
     "metadata": {},
     "output_type": "execute_result"
    },
    {
     "data": {
      "image/png": "[encoded data removed]",
      "text/plain": [
       "<Figure size 1152x576 with 1 Axes>"
      ]
     },
     "metadata": {},
     "output_type": "display_data"
    }
   ],
   "source": [
    "plt.figure(figsize=(16,8))\n",
    "plt.title('Receiver Operating Characteristic')\n",
    "plt.plot(fpr,tpr, label='AUC = %0.4f'% roc_auc_score(y_test, pred_prob[:,1]))\n",
    "plt.ylabel('True Positive Rate')\n",
    "plt.xlabel('False Positive Rate')\n",
    "plt.legend(loc='upper left')"
   ]
  },
  {
   "cell_type": "code",
   "execution_count": null,
   "metadata": {},
   "outputs": [],
   "source": []
  },
  {
   "cell_type": "code",
   "execution_count": null,
   "metadata": {},
   "outputs": [],
   "source": []
  },
  {
   "cell_type": "code",
   "execution_count": null,
   "metadata": {},
   "outputs": [],
   "source": []
  },
  {
   "cell_type": "code",
   "execution_count": 222,
   "metadata": {},
   "outputs": [],
   "source": [
    "summary = pd.Series(gboost_baseline.feature_importances_)\n",
    "summary.index = X.columns"
   ]
  },
  {
   "cell_type": "code",
   "execution_count": 223,
   "metadata": {
    "scrolled": false
   },
   "outputs": [],
   "source": [
    "summary.sort_values(ascending=False, inplace=True)"
   ]
  },
  {
   "cell_type": "code",
   "execution_count": null,
   "metadata": {},
   "outputs": [],
   "source": []
  },
  {
   "cell_type": "code",
   "execution_count": 224,
   "metadata": {
    "scrolled": false
   },
   "outputs": [
    {
     "data": {
      "text/plain": [
       "<matplotlib.axes._subplots.AxesSubplot at 0x173116e4860>"
      ]
     },
     "execution_count": 224,
     "metadata": {},
     "output_type": "execute_result"
    },
    {
     "data": {
      "image/png": "[encoded data removed]",
      "text/plain": [
       "<Figure size 720x720 with 1 Axes>"
      ]
     },
     "metadata": {},
     "output_type": "display_data"
    }
   ],
   "source": [
    "plt.figure(figsize=(10,10))\n",
    "sns.barplot(y=summary[:50].index.values, x=summary[:50].values)"
   ]
  },
  {
   "cell_type": "code",
   "execution_count": null,
   "metadata": {},
   "outputs": [],
   "source": []
  },
  {
   "cell_type": "code",
   "execution_count": 225,
   "metadata": {},
   "outputs": [
    {
     "data": {
      "text/html": [
       "<div>\n",
       "<style scoped>\n",
       "    .dataframe tbody tr th:only-of-type {\n",
       "        vertical-align: middle;\n",
       "    }\n",
       "\n",
       "    .dataframe tbody tr th {\n",
       "        vertical-align: top;\n",
       "    }\n",
       "\n",
       "    .dataframe thead th {\n",
       "        text-align: right;\n",
       "    }\n",
       "</style>\n",
       "<table border=\"1\" class=\"dataframe\">\n",
       "  <thead>\n",
       "    <tr style=\"text-align: right;\">\n",
       "      <th></th>\n",
       "      <th>NAME_CONTRACT_TYPE</th>\n",
       "      <th>CODE_GENDER</th>\n",
       "      <th>FLAG_OWN_CAR</th>\n",
       "      <th>FLAG_OWN_REALTY</th>\n",
       "      <th>CNT_CHILDREN</th>\n",
       "      <th>AMT_INCOME_TOTAL</th>\n",
       "      <th>AMT_CREDIT</th>\n",
       "      <th>AMT_ANNUITY</th>\n",
       "      <th>AMT_GOODS_PRICE</th>\n",
       "      <th>NAME_TYPE_SUITE</th>\n",
       "      <th>...</th>\n",
       "      <th>FLAG_DOCUMENT_18</th>\n",
       "      <th>FLAG_DOCUMENT_19</th>\n",
       "      <th>FLAG_DOCUMENT_20</th>\n",
       "      <th>FLAG_DOCUMENT_21</th>\n",
       "      <th>AMT_REQ_CREDIT_BUREAU_HOUR</th>\n",
       "      <th>AMT_REQ_CREDIT_BUREAU_DAY</th>\n",
       "      <th>AMT_REQ_CREDIT_BUREAU_WEEK</th>\n",
       "      <th>AMT_REQ_CREDIT_BUREAU_MON</th>\n",
       "      <th>AMT_REQ_CREDIT_BUREAU_QRT</th>\n",
       "      <th>AMT_REQ_CREDIT_BUREAU_YEAR</th>\n",
       "    </tr>\n",
       "    <tr>\n",
       "      <th>SK_ID_CURR</th>\n",
       "      <th></th>\n",
       "      <th></th>\n",
       "      <th></th>\n",
       "      <th></th>\n",
       "      <th></th>\n",
       "      <th></th>\n",
       "      <th></th>\n",
       "      <th></th>\n",
       "      <th></th>\n",
       "      <th></th>\n",
       "      <th></th>\n",
       "      <th></th>\n",
       "      <th></th>\n",
       "      <th></th>\n",
       "      <th></th>\n",
       "      <th></th>\n",
       "      <th></th>\n",
       "      <th></th>\n",
       "      <th></th>\n",
       "      <th></th>\n",
       "      <th></th>\n",
       "    </tr>\n",
       "  </thead>\n",
       "  <tbody>\n",
       "    <tr>\n",
       "      <th>100001</th>\n",
       "      <td>Cash loans</td>\n",
       "      <td>F</td>\n",
       "      <td>N</td>\n",
       "      <td>Y</td>\n",
       "      <td>0</td>\n",
       "      <td>135000.0</td>\n",
       "      <td>568800.0</td>\n",
       "      <td>20560.5</td>\n",
       "      <td>450000.0</td>\n",
       "      <td>Unaccompanied</td>\n",
       "      <td>...</td>\n",
       "      <td>0</td>\n",
       "      <td>0</td>\n",
       "      <td>0</td>\n",
       "      <td>0</td>\n",
       "      <td>0.0</td>\n",
       "      <td>0.0</td>\n",
       "      <td>0.0</td>\n",
       "      <td>0.0</td>\n",
       "      <td>0.0</td>\n",
       "      <td>0.0</td>\n",
       "    </tr>\n",
       "    <tr>\n",
       "      <th>100005</th>\n",
       "      <td>Cash loans</td>\n",
       "      <td>M</td>\n",
       "      <td>N</td>\n",
       "      <td>Y</td>\n",
       "      <td>0</td>\n",
       "      <td>99000.0</td>\n",
       "      <td>222768.0</td>\n",
       "      <td>17370.0</td>\n",
       "      <td>180000.0</td>\n",
       "      <td>Unaccompanied</td>\n",
       "      <td>...</td>\n",
       "      <td>0</td>\n",
       "      <td>0</td>\n",
       "      <td>0</td>\n",
       "      <td>0</td>\n",
       "      <td>0.0</td>\n",
       "      <td>0.0</td>\n",
       "      <td>0.0</td>\n",
       "      <td>0.0</td>\n",
       "      <td>0.0</td>\n",
       "      <td>3.0</td>\n",
       "    </tr>\n",
       "    <tr>\n",
       "      <th>100013</th>\n",
       "      <td>Cash loans</td>\n",
       "      <td>M</td>\n",
       "      <td>Y</td>\n",
       "      <td>Y</td>\n",
       "      <td>0</td>\n",
       "      <td>202500.0</td>\n",
       "      <td>663264.0</td>\n",
       "      <td>69777.0</td>\n",
       "      <td>630000.0</td>\n",
       "      <td>NaN</td>\n",
       "      <td>...</td>\n",
       "      <td>0</td>\n",
       "      <td>0</td>\n",
       "      <td>0</td>\n",
       "      <td>0</td>\n",
       "      <td>0.0</td>\n",
       "      <td>0.0</td>\n",
       "      <td>0.0</td>\n",
       "      <td>0.0</td>\n",
       "      <td>1.0</td>\n",
       "      <td>4.0</td>\n",
       "    </tr>\n",
       "    <tr>\n",
       "      <th>100028</th>\n",
       "      <td>Cash loans</td>\n",
       "      <td>F</td>\n",
       "      <td>N</td>\n",
       "      <td>Y</td>\n",
       "      <td>2</td>\n",
       "      <td>315000.0</td>\n",
       "      <td>1575000.0</td>\n",
       "      <td>49018.5</td>\n",
       "      <td>1575000.0</td>\n",
       "      <td>Unaccompanied</td>\n",
       "      <td>...</td>\n",
       "      <td>0</td>\n",
       "      <td>0</td>\n",
       "      <td>0</td>\n",
       "      <td>0</td>\n",
       "      <td>0.0</td>\n",
       "      <td>0.0</td>\n",
       "      <td>0.0</td>\n",
       "      <td>0.0</td>\n",
       "      <td>0.0</td>\n",
       "      <td>3.0</td>\n",
       "    </tr>\n",
       "    <tr>\n",
       "      <th>100038</th>\n",
       "      <td>Cash loans</td>\n",
       "      <td>M</td>\n",
       "      <td>Y</td>\n",
       "      <td>N</td>\n",
       "      <td>1</td>\n",
       "      <td>180000.0</td>\n",
       "      <td>625500.0</td>\n",
       "      <td>32067.0</td>\n",
       "      <td>625500.0</td>\n",
       "      <td>Unaccompanied</td>\n",
       "      <td>...</td>\n",
       "      <td>0</td>\n",
       "      <td>0</td>\n",
       "      <td>0</td>\n",
       "      <td>0</td>\n",
       "      <td>NaN</td>\n",
       "      <td>NaN</td>\n",
       "      <td>NaN</td>\n",
       "      <td>NaN</td>\n",
       "      <td>NaN</td>\n",
       "      <td>NaN</td>\n",
       "    </tr>\n",
       "  </tbody>\n",
       "</table>\n",
       "<p>5 rows × 120 columns</p>\n",
       "</div>"
      ],
      "text/plain": [
       "           NAME_CONTRACT_TYPE CODE_GENDER FLAG_OWN_CAR FLAG_OWN_REALTY  \\\n",
       "SK_ID_CURR                                                               \n",
       "100001             Cash loans           F            N               Y   \n",
       "100005             Cash loans           M            N               Y   \n",
       "100013             Cash loans           M            Y               Y   \n",
       "100028             Cash loans           F            N               Y   \n",
       "100038             Cash loans           M            Y               N   \n",
       "\n",
       "            CNT_CHILDREN  AMT_INCOME_TOTAL  AMT_CREDIT  AMT_ANNUITY  \\\n",
       "SK_ID_CURR                                                            \n",
       "100001                 0          135000.0    568800.0      20560.5   \n",
       "100005                 0           99000.0    222768.0      17370.0   \n",
       "100013                 0          202500.0    663264.0      69777.0   \n",
       "100028                 2          315000.0   1575000.0      49018.5   \n",
       "100038                 1          180000.0    625500.0      32067.0   \n",
       "\n",
       "            AMT_GOODS_PRICE NAME_TYPE_SUITE             ...              \\\n",
       "SK_ID_CURR                                              ...               \n",
       "100001             450000.0   Unaccompanied             ...               \n",
       "100005             180000.0   Unaccompanied             ...               \n",
       "100013             630000.0             NaN             ...               \n",
       "100028            1575000.0   Unaccompanied             ...               \n",
       "100038             625500.0   Unaccompanied             ...               \n",
       "\n",
       "           FLAG_DOCUMENT_18 FLAG_DOCUMENT_19 FLAG_DOCUMENT_20  \\\n",
       "SK_ID_CURR                                                      \n",
       "100001                    0                0                0   \n",
       "100005                    0                0                0   \n",
       "100013                    0                0                0   \n",
       "100028                    0                0                0   \n",
       "100038                    0                0                0   \n",
       "\n",
       "           FLAG_DOCUMENT_21  AMT_REQ_CREDIT_BUREAU_HOUR  \\\n",
       "SK_ID_CURR                                                \n",
       "100001                    0                         0.0   \n",
       "100005                    0                         0.0   \n",
       "100013                    0                         0.0   \n",
       "100028                    0                         0.0   \n",
       "100038                    0                         NaN   \n",
       "\n",
       "            AMT_REQ_CREDIT_BUREAU_DAY  AMT_REQ_CREDIT_BUREAU_WEEK  \\\n",
       "SK_ID_CURR                                                          \n",
       "100001                            0.0                         0.0   \n",
       "100005                            0.0                         0.0   \n",
       "100013                            0.0                         0.0   \n",
       "100028                            0.0                         0.0   \n",
       "100038                            NaN                         NaN   \n",
       "\n",
       "            AMT_REQ_CREDIT_BUREAU_MON  AMT_REQ_CREDIT_BUREAU_QRT  \\\n",
       "SK_ID_CURR                                                         \n",
       "100001                            0.0                        0.0   \n",
       "100005                            0.0                        0.0   \n",
       "100013                            0.0                        1.0   \n",
       "100028                            0.0                        0.0   \n",
       "100038                            NaN                        NaN   \n",
       "\n",
       "            AMT_REQ_CREDIT_BUREAU_YEAR  \n",
       "SK_ID_CURR                              \n",
       "100001                             0.0  \n",
       "100005                             3.0  \n",
       "100013                             4.0  \n",
       "100028                             3.0  \n",
       "100038                             NaN  \n",
       "\n",
       "[5 rows x 120 columns]"
      ]
     },
     "execution_count": 225,
     "metadata": {},
     "output_type": "execute_result"
    }
   ],
   "source": [
    "test_csv.head()"
   ]
  },
  {
   "cell_type": "code",
   "execution_count": 226,
   "metadata": {},
   "outputs": [],
   "source": [
    "test_csv = pd.read_csv('../input/application_test.csv.zip', compression='infer')"
   ]
  },
  {
   "cell_type": "code",
   "execution_count": 227,
   "metadata": {},
   "outputs": [],
   "source": [
    "X = test_csv\n",
    "X.set_index('SK_ID_CURR',inplace=True)"
   ]
  },
  {
   "cell_type": "code",
   "execution_count": 228,
   "metadata": {},
   "outputs": [],
   "source": [
    "# loading history data\n",
    "installments = pd.read_csv('../input/installments_payments.csv.zip', compression='infer')\n",
    "previous = pd.read_csv('../input/previous_application.csv.zip', compression='infer')\n",
    "bureau = pd.read_csv('../input/bureau.csv.zip', compression='infer')\n",
    "\n",
    "# loading balance data\n",
    "credit_card_balance = pd.read_csv('../input/credit_card_balance.csv.zip', compression='infer')\n",
    "#bureau_balance = pd.read_csv('../input/bureau_balance.csv.zip', compression='infer')\n",
    "cash_balance = pd.read_csv('../input/POS_CASH_balance.csv.zip', compression='infer')"
   ]
  },
  {
   "cell_type": "code",
   "execution_count": 229,
   "metadata": {},
   "outputs": [],
   "source": [
    "labels = {\n",
    "          'Active'   : 'CNT_ACTIVE_LOANS',\n",
    "          'Bad debt' : 'CNT_BAD_DEBT',\n",
    "          'Closed'   : 'CNT_CLOSED_DEBT',\n",
    "          'Sold'     : 'CNT_SOLD_DEBT'\n",
    "         }\n",
    "\n",
    "cnt_loans = aggregate_df(df=bureau, value='CREDIT_TYPE', column='CREDIT_ACTIVE', func='count', labels=labels)\n",
    "\n",
    "labels = {\n",
    "          'Active'   : 'AMT_ACTIVE_LOANS',\n",
    "          'Bad debt' : 'AMT_BAD_DEBT',\n",
    "          'Closed'   : 'AMT_CLOSED_DEBT',\n",
    "          'Sold'     : 'AMT_SOLD_DEBT'\n",
    "         }\n",
    "\n",
    "amt_loans = aggregate_df(df=bureau, value='AMT_CREDIT_SUM', column='CREDIT_ACTIVE', func='sum', labels=labels)\n",
    "\n",
    "labels = {\n",
    "          'OVERDUE'   : 'MAX_OVERDUE'\n",
    "         }\n",
    "\n",
    "installments['OVERDUE'] = installments['DAYS_ENTRY_PAYMENT'] - installments['DAYS_INSTALMENT']\n",
    "max_overdue = aggregate_df(df=installments, value='OVERDUE', func='max', labels=labels)\n",
    "\n",
    "labels = {\n",
    "          'CNT_INSTALMENT_FUTURE'   : 'CNT_FUTURE_INSTALLMENTS'\n",
    "         }\n",
    "\n",
    "cnt_future_installments = aggregate_df(df=cash_balance, value='CNT_INSTALMENT_FUTURE', func='sum', labels=labels)\n",
    "\n",
    "labels = {\n",
    "          'Approved'     : 'CNT_LOANS_APPROVED',\n",
    "          'Canceled'     : 'CNT_LOANS_CANCELLED',\n",
    "          'Refused'      : 'CNT_LOANS_REFUSED',\n",
    "          'Unused offer' : 'CNT_UNUSED_OFFERS'\n",
    "         }\n",
    "\n",
    "cnt_prev_loans = aggregate_df(df=previous, \n",
    "                              value='NAME_CONTRACT_TYPE', column='NAME_CONTRACT_STATUS', func='count', labels=labels)\n",
    "\n",
    "labels = {\n",
    "          'CNT_DRAWINGS_CURRENT'   : 'CNT_CC_DRAWINGS'\n",
    "         }\n",
    "\n",
    "cc_draw_cnt = aggregate_df(df=credit_card_balance,\n",
    "                          value='CNT_DRAWINGS_CURRENT', func='sum', labels=labels)\n",
    "\n",
    "cc_balance = pd.DataFrame(credit_card_balance.pivot_table(index='SK_ID_CURR', \n",
    "                                             values=['AMT_PAYMENT_TOTAL_CURRENT'], \n",
    "                                             columns='MONTHS_BALANCE',\n",
    "                                             aggfunc='mean').to_records())[['SK_ID_CURR',\"('AMT_PAYMENT_TOTAL_CURRENT', -1)\"]]\n",
    "\n",
    "cc_balance.columns = ['SK_ID_CURR', 'CREDIT_CARD_BALANCE']\n",
    "\n",
    "X = pd.concat([X, cnt_loans], axis=1, join='outer', join_axes=[X.index])\n",
    "X = pd.concat([X, amt_loans], axis=1, join='outer', join_axes=[X.index])\n",
    "X = pd.concat([X, max_overdue], axis=1, join='outer', join_axes=[X.index])\n",
    "X = pd.concat([X, cnt_future_installments], axis=1, join='outer', join_axes=[X.index])\n",
    "X = pd.concat([X, cnt_prev_loans], axis=1, join='outer', join_axes=[X.index])\n",
    "X = pd.concat([X, cc_draw_cnt], axis=1, join='outer', join_axes=[X.index])\n",
    "X = pd.concat([X, cc_balance], axis=1, join='outer', join_axes=[X.index])\n",
    "\n",
    "del cnt_loans, amt_loans, max_overdue, cnt_future_installments, cnt_prev_loans, cc_balance, cc_draw_cnt\n",
    "del previous, cash_balance, installments, bureau, credit_card_balance"
   ]
  },
  {
   "cell_type": "code",
   "execution_count": 230,
   "metadata": {},
   "outputs": [],
   "source": [
    "X = pd.get_dummies(X.drop(['SK_ID_CURR'], axis=1), dummy_na=True)"
   ]
  },
  {
   "cell_type": "code",
   "execution_count": 231,
   "metadata": {},
   "outputs": [],
   "source": [
    "probs = gboost_baseline.predict_proba(X.fillna(0))"
   ]
  },
  {
   "cell_type": "code",
   "execution_count": 232,
   "metadata": {},
   "outputs": [],
   "source": [
    "submission = pd.DataFrame()\n",
    "submission['TARGET'] = probs[:,1]\n",
    "submission.index = test_csv.index"
   ]
  },
  {
   "cell_type": "code",
   "execution_count": 233,
   "metadata": {},
   "outputs": [],
   "source": [
    "submission.to_csv('gboost-feature-engineering-2000.csv')"
   ]
  },
  {
   "cell_type": "code",
   "execution_count": null,
   "metadata": {},
   "outputs": [],
   "source": []
  },
  {
   "cell_type": "code",
   "execution_count": null,
   "metadata": {},
   "outputs": [],
   "source": []
  },
  {
   "cell_type": "code",
   "execution_count": null,
   "metadata": {},
   "outputs": [],
   "source": []
  }
 ],
 "metadata": {
  "kernelspec": {
   "display_name": "Python 3",
   "language": "python",
   "name": "python3"
  },
  "language_info": {
   "codemirror_mode": {
    "name": "ipython",
    "version": 3
   },
   "file_extension": ".py",
   "mimetype": "text/x-python",
   "name": "python",
   "nbconvert_exporter": "python",
   "pygments_lexer": "ipython3",
   "version": "3.6.5"
  }
 },
 "nbformat": 4,
 "nbformat_minor": 2
}
