{
 "cells": [
  {
   "cell_type": "code",
   "execution_count": 1,
   "metadata": {},
   "outputs": [],
   "source": [
    "import numpy as np\n",
    "import pandas as pd\n",
    "import seaborn as sns\n",
    "import matplotlib.pyplot as plt\n",
    "\n",
    "from sklearn import preprocessing\n",
    "from sklearn.cross_validation import train_test_split\n",
    "from sklearn.ensemble import RandomForestClassifier\n",
    "from sklearn.metrics import classification_report, confusion_matrix, roc_auc_score, roc_curve\n",
    "\n",
    "from imblearn.over_sampling import SMOTE\n",
    "\n",
    "%matplotlib inline"
   ]
  },
  {
   "cell_type": "code",
   "execution_count": 2,
   "metadata": {},
   "outputs": [],
   "source": [
    "# train and test datasets\n",
    "train_csv = pd.read_csv('../input/application_train.csv.zip', compression='infer')\n",
    "test_csv = pd.read_csv('../input/application_test.csv.zip', compression='infer')\n",
    "\n",
    "# balance information\n",
    "credit_card_balance = pd.read_csv('../input/credit_card_balance.csv.zip', compression='infer')\n",
    "bureau_balance = pd.read_csv('../input/bureau_balance.csv.zip', compression='infer')\n",
    "cash_balance = pd.read_csv('../input/POS_CASH_balance.csv.zip', compression='infer')\n",
    "\n",
    "# histoy data\n",
    "installments = pd.read_csv('../input/installments_payments.csv.zip', compression='infer')\n",
    "previous = pd.read_csv('../input/previous_application.csv.zip', compression='infer')"
   ]
  },
  {
   "cell_type": "code",
   "execution_count": 3,
   "metadata": {},
   "outputs": [],
   "source": [
    "# removing 5 rows\n",
    "train_csv = train_csv[train_csv['NAME_INCOME_TYPE'] != 'Maternity leave']\n",
    "\n",
    "# removing 4 rows\n",
    "train_csv = train_csv[train_csv['NAME_FAMILY_STATUS'] != 'Unknown']\n",
    "\n",
    "# removing 2 rows\n",
    "train_csv = train_csv[train_csv['CODE_GENDER'] != 'XNA']"
   ]
  },
  {
   "cell_type": "code",
   "execution_count": 4,
   "metadata": {},
   "outputs": [],
   "source": [
    "# assigning X,y\n",
    "X = pd.get_dummies(train_csv.drop(['TARGET','SK_ID_CURR'], axis=1), dummy_na=True)\n",
    "y = train_csv['TARGET']\n",
    "\n",
    "# assigning test\n",
    "test = pd.get_dummies(test_csv.drop('SK_ID_CURR',axis=1), dummy_na=True)"
   ]
  },
  {
   "cell_type": "code",
   "execution_count": 5,
   "metadata": {},
   "outputs": [],
   "source": [
    "X_train, X_test, y_train, y_test = train_test_split(X, y, test_size=0.33)"
   ]
  },
  {
   "cell_type": "code",
   "execution_count": 6,
   "metadata": {},
   "outputs": [],
   "source": [
    "sm = SMOTE(ratio = 1.0, n_jobs=8)\n",
    "X_train_res, y_train_res = sm.fit_sample(X_train.fillna(0), y_train)"
   ]
  },
  {
   "cell_type": "code",
   "execution_count": 24,
   "metadata": {},
   "outputs": [
    {
     "data": {
      "text/plain": [
       "0    282677\n",
       "1     24823\n",
       "Name: TARGET, dtype: int64"
      ]
     },
     "execution_count": 24,
     "metadata": {},
     "output_type": "execute_result"
    }
   ],
   "source": [
    "train_csv['TARGET'].value_counts()"
   ]
  },
  {
   "cell_type": "code",
   "execution_count": null,
   "metadata": {},
   "outputs": [],
   "source": []
  },
  {
   "cell_type": "code",
   "execution_count": 7,
   "metadata": {},
   "outputs": [],
   "source": [
    "forest = RandomForestClassifier(n_estimators=200)"
   ]
  },
  {
   "cell_type": "code",
   "execution_count": 8,
   "metadata": {},
   "outputs": [
    {
     "data": {
      "text/plain": [
       "RandomForestClassifier(bootstrap=True, class_weight=None, criterion='gini',\n",
       "            max_depth=None, max_features='auto', max_leaf_nodes=None,\n",
       "            min_impurity_decrease=0.0, min_impurity_split=None,\n",
       "            min_samples_leaf=1, min_samples_split=2,\n",
       "            min_weight_fraction_leaf=0.0, n_estimators=200, n_jobs=1,\n",
       "            oob_score=False, random_state=None, verbose=0,\n",
       "            warm_start=False)"
      ]
     },
     "execution_count": 8,
     "metadata": {},
     "output_type": "execute_result"
    }
   ],
   "source": [
    "forest.fit(X_train_res, y_train_res)"
   ]
  },
  {
   "cell_type": "code",
   "execution_count": 10,
   "metadata": {},
   "outputs": [],
   "source": [
    "predictions = forest.predict(X_test.fillna(0))\n",
    "pred_prob = forest.predict_proba(X_test.fillna(0))"
   ]
  },
  {
   "cell_type": "code",
   "execution_count": 11,
   "metadata": {},
   "outputs": [
    {
     "name": "stdout",
     "output_type": "stream",
     "text": [
      "             precision    recall  f1-score   support\n",
      "\n",
      "          0       0.92      1.00      0.96     93234\n",
      "          1       0.60      0.00      0.00      8241\n",
      "\n",
      "avg / total       0.89      0.92      0.88    101475\n",
      "\n"
     ]
    }
   ],
   "source": [
    "print(classification_report(y_test, predictions))"
   ]
  },
  {
   "cell_type": "code",
   "execution_count": 12,
   "metadata": {},
   "outputs": [
    {
     "name": "stdout",
     "output_type": "stream",
     "text": [
      "[[93232     2]\n",
      " [ 8238     3]]\n"
     ]
    }
   ],
   "source": [
    "print(confusion_matrix(y_test, predictions))"
   ]
  },
  {
   "cell_type": "code",
   "execution_count": 13,
   "metadata": {
    "scrolled": true
   },
   "outputs": [
    {
     "data": {
      "text/plain": [
       "0.6991457719119061"
      ]
     },
     "execution_count": 13,
     "metadata": {},
     "output_type": "execute_result"
    }
   ],
   "source": [
    "roc_auc_score(y_test, pred_prob[:,1])"
   ]
  },
  {
   "cell_type": "code",
   "execution_count": 14,
   "metadata": {},
   "outputs": [],
   "source": [
    "fpr, tpr, thresholds = roc_curve(y_test, pred_prob[:,1])"
   ]
  },
  {
   "cell_type": "code",
   "execution_count": 15,
   "metadata": {},
   "outputs": [
    {
     "data": {
      "text/plain": [
       "<matplotlib.legend.Legend at 0x254815be6d8>"
      ]
     },
     "execution_count": 15,
     "metadata": {},
     "output_type": "execute_result"
    },
    {
     "data": {
      "image/png": "[encoded data removed]",
      "text/plain": [
       "<Figure size 432x288 with 1 Axes>"
      ]
     },
     "metadata": {},
     "output_type": "display_data"
    }
   ],
   "source": [
    "plt.title('Receiver Operating Characteristic')\n",
    "plt.plot(fpr,tpr, label='AUC = %0.4f'% roc_auc_score(y_test, pred_prob[:,1]))\n",
    "plt.ylabel('True Positive Rate')\n",
    "plt.xlabel('False Positive Rate')\n",
    "plt.legend(loc='lower right')"
   ]
  },
  {
   "cell_type": "code",
   "execution_count": 16,
   "metadata": {},
   "outputs": [],
   "source": [
    "pred_sub = forest.predict_proba(test.fillna(0))\n",
    "\n",
    "submission = pd.DataFrame()\n",
    "submission['TARGET'] = pred_sub[:,1]\n",
    "submission.index = test_csv['SK_ID_CURR']"
   ]
  },
  {
   "cell_type": "code",
   "execution_count": 17,
   "metadata": {},
   "outputs": [],
   "source": [
    "submission.to_csv('forest-smote.csv')"
   ]
  },
  {
   "cell_type": "code",
   "execution_count": 16,
   "metadata": {},
   "outputs": [],
   "source": []
  },
  {
   "cell_type": "code",
   "execution_count": 18,
   "metadata": {},
   "outputs": [],
   "source": [
    "summary = pd.Series(forest.feature_importances_)\n",
    "summary.index = X.columns"
   ]
  },
  {
   "cell_type": "code",
   "execution_count": 19,
   "metadata": {
    "scrolled": false
   },
   "outputs": [],
   "source": [
    "summary.sort_values(ascending=False, inplace=True)"
   ]
  },
  {
   "cell_type": "code",
   "execution_count": 20,
   "metadata": {},
   "outputs": [
    {
     "data": {
      "text/plain": [
       "CODE_GENDER_F                                        3.594212e-02\n",
       "CODE_GENDER_M                                        3.089757e-02\n",
       "EXT_SOURCE_3                                         2.779374e-02\n",
       "FLAG_OWN_CAR_Y                                       2.621059e-02\n",
       "EXT_SOURCE_2                                         2.586355e-02\n",
       "HOUSETYPE_MODE_nan                                   2.312823e-02\n",
       "FLAG_OWN_CAR_N                                       2.122638e-02\n",
       "YEARS_BEGINEXPLUATATION_MODE                         2.025947e-02\n",
       "NAME_FAMILY_STATUS_Married                           2.019267e-02\n",
       "NAME_EDUCATION_TYPE_Higher education                 2.007249e-02\n",
       "NAME_EDUCATION_TYPE_Secondary / secondary special    1.927403e-02\n",
       "EMERGENCYSTATE_MODE_No                               1.891734e-02\n",
       "YEARS_BEGINEXPLUATATION_MEDI                         1.815309e-02\n",
       "EMERGENCYSTATE_MODE_nan                              1.792562e-02\n",
       "HOUSETYPE_MODE_block of flats                        1.723516e-02\n",
       "NAME_INCOME_TYPE_Working                             1.652360e-02\n",
       "WALLSMATERIAL_MODE_nan                               1.639439e-02\n",
       "YEARS_BEGINEXPLUATATION_AVG                          1.637520e-02\n",
       "FONDKAPREMONT_MODE_nan                               1.420256e-02\n",
       "OBS_30_CNT_SOCIAL_CIRCLE                             1.376839e-02\n",
       "FLAG_PHONE                                           1.321639e-02\n",
       "OCCUPATION_TYPE_Laborers                             1.319592e-02\n",
       "REGION_RATING_CLIENT                                 1.240869e-02\n",
       "REGION_RATING_CLIENT_W_CITY                          1.230097e-02\n",
       "OBS_60_CNT_SOCIAL_CIRCLE                             1.211775e-02\n",
       "FLAG_OWN_REALTY_N                                    1.209332e-02\n",
       "WALLSMATERIAL_MODE_Panel                             1.203115e-02\n",
       "REG_CITY_NOT_WORK_CITY                               1.201892e-02\n",
       "CNT_FAM_MEMBERS                                      1.139391e-02\n",
       "OWN_CAR_AGE                                          1.055651e-02\n",
       "                                                         ...     \n",
       "FLAG_DOCUMENT_21                                     2.339470e-05\n",
       "FLAG_DOCUMENT_19                                     2.332054e-05\n",
       "ORGANIZATION_TYPE_Industry: type 6                   1.888013e-05\n",
       "ORGANIZATION_TYPE_Transport: type 1                  1.870503e-05\n",
       "ORGANIZATION_TYPE_Industry: type 13                  1.423360e-05\n",
       "ORGANIZATION_TYPE_Industry: type 10                  1.227395e-05\n",
       "FLAG_DOCUMENT_7                                      1.009201e-05\n",
       "NAME_EDUCATION_TYPE_Academic degree                  9.803941e-06\n",
       "ORGANIZATION_TYPE_Trade: type 5                      7.145048e-06\n",
       "FLAG_DOCUMENT_2                                      6.379102e-06\n",
       "ORGANIZATION_TYPE_Industry: type 8                   6.195620e-06\n",
       "ORGANIZATION_TYPE_Religion                           5.635467e-06\n",
       "FLAG_DOCUMENT_17                                     4.996685e-06\n",
       "ORGANIZATION_TYPE_Trade: type 4                      4.015432e-06\n",
       "NAME_INCOME_TYPE_Student                             1.806473e-07\n",
       "FLAG_DOCUMENT_4                                      9.427996e-08\n",
       "FLAG_DOCUMENT_10                                     6.284103e-10\n",
       "ORGANIZATION_TYPE_nan                                0.000000e+00\n",
       "FLAG_MOBIL                                           0.000000e+00\n",
       "FLAG_DOCUMENT_12                                     0.000000e+00\n",
       "NAME_CONTRACT_TYPE_nan                               0.000000e+00\n",
       "FLAG_OWN_CAR_nan                                     0.000000e+00\n",
       "FLAG_OWN_REALTY_nan                                  0.000000e+00\n",
       "NAME_INCOME_TYPE_Businessman                         0.000000e+00\n",
       "NAME_INCOME_TYPE_nan                                 0.000000e+00\n",
       "NAME_EDUCATION_TYPE_nan                              0.000000e+00\n",
       "NAME_FAMILY_STATUS_nan                               0.000000e+00\n",
       "NAME_HOUSING_TYPE_nan                                0.000000e+00\n",
       "WEEKDAY_APPR_PROCESS_START_nan                       0.000000e+00\n",
       "CODE_GENDER_nan                                      0.000000e+00\n",
       "Length: 257, dtype: float64"
      ]
     },
     "execution_count": 20,
     "metadata": {},
     "output_type": "execute_result"
    }
   ],
   "source": [
    "summary"
   ]
  },
  {
   "cell_type": "code",
   "execution_count": null,
   "metadata": {},
   "outputs": [],
   "source": []
  },
  {
   "cell_type": "code",
   "execution_count": null,
   "metadata": {},
   "outputs": [],
   "source": []
  },
  {
   "cell_type": "code",
   "execution_count": null,
   "metadata": {},
   "outputs": [],
   "source": []
  },
  {
   "cell_type": "code",
   "execution_count": null,
   "metadata": {},
   "outputs": [],
   "source": []
  }
 ],
 "metadata": {
  "kernelspec": {
   "display_name": "Python 3",
   "language": "python",
   "name": "python3"
  },
  "language_info": {
   "codemirror_mode": {
    "name": "ipython",
    "version": 3
   },
   "file_extension": ".py",
   "mimetype": "text/x-python",
   "name": "python",
   "nbconvert_exporter": "python",
   "pygments_lexer": "ipython3",
   "version": "3.6.5"
  }
 },
 "nbformat": 4,
 "nbformat_minor": 2
}
