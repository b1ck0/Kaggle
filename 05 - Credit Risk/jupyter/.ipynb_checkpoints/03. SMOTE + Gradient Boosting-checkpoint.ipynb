{
 "cells": [
  {
   "cell_type": "code",
   "execution_count": 27,
   "metadata": {},
   "outputs": [],
   "source": [
    "import numpy as np\n",
    "import pandas as pd\n",
    "import seaborn as sns\n",
    "import matplotlib.pyplot as plt\n",
    "\n",
    "from sklearn import preprocessing\n",
    "from sklearn.cross_validation import train_test_split\n",
    "from sklearn.ensemble import GradientBoostingClassifier\n",
    "from sklearn.metrics import classification_report, confusion_matrix, roc_auc_score, roc_curve\n",
    "\n",
    "%matplotlib inline"
   ]
  },
  {
   "cell_type": "code",
   "execution_count": 3,
   "metadata": {},
   "outputs": [],
   "source": [
    "# train and test datasets\n",
    "train_csv = pd.read_csv('../input/application_train.csv.zip', compression='infer')\n",
    "test_csv = pd.read_csv('../input/application_test.csv.zip', compression='infer')\n",
    "\n",
    "# balance information\n",
    "credit_card_balance = pd.read_csv('../input/credit_card_balance.csv.zip', compression='infer')\n",
    "bureau_balance = pd.read_csv('../input/bureau_balance.csv.zip', compression='infer')\n",
    "cash_balance = pd.read_csv('../input/POS_CASH_balance.csv.zip', compression='infer')\n",
    "\n",
    "# histoy data\n",
    "installments = pd.read_csv('../input/installments_payments.csv.zip', compression='infer')\n",
    "previous = pd.read_csv('../input/previous_application.csv.zip', compression='infer')"
   ]
  },
  {
   "cell_type": "code",
   "execution_count": 4,
   "metadata": {},
   "outputs": [],
   "source": [
    "# removing 5 rows\n",
    "train_csv = train_csv[train_csv['NAME_INCOME_TYPE'] != 'Maternity leave']\n",
    "\n",
    "# removing 4 rows\n",
    "train_csv = train_csv[train_csv['NAME_FAMILY_STATUS'] != 'Unknown']\n",
    "\n",
    "# removing 2 rows\n",
    "train_csv = train_csv[train_csv['CODE_GENDER'] != 'XNA']"
   ]
  },
  {
   "cell_type": "code",
   "execution_count": 5,
   "metadata": {},
   "outputs": [],
   "source": [
    "# assigning X,y\n",
    "X = pd.get_dummies(train_csv.drop('TARGET', axis=1), dummy_na=True)\n",
    "y = train_csv['TARGET']\n",
    "\n",
    "# assigning test\n",
    "test = pd.get_dummies(test_csv, dummy_na=True)"
   ]
  },
  {
   "cell_type": "code",
   "execution_count": 6,
   "metadata": {},
   "outputs": [],
   "source": [
    "X_train, X_test, y_train, y_test = train_test_split(X, y, test_size=0.33)"
   ]
  },
  {
   "cell_type": "code",
   "execution_count": 7,
   "metadata": {},
   "outputs": [],
   "source": [
    "gboost_baseline = GradientBoostingClassifier(n_estimators=200)"
   ]
  },
  {
   "cell_type": "code",
   "execution_count": 20,
   "metadata": {},
   "outputs": [
    {
     "data": {
      "text/plain": [
       "GradientBoostingClassifier(criterion='friedman_mse', init=None,\n",
       "              learning_rate=0.1, loss='deviance', max_depth=3,\n",
       "              max_features=None, max_leaf_nodes=None,\n",
       "              min_impurity_decrease=0.0, min_impurity_split=None,\n",
       "              min_samples_leaf=1, min_samples_split=2,\n",
       "              min_weight_fraction_leaf=0.0, n_estimators=200,\n",
       "              presort='auto', random_state=None, subsample=1.0, verbose=0,\n",
       "              warm_start=False)"
      ]
     },
     "execution_count": 20,
     "metadata": {},
     "output_type": "execute_result"
    }
   ],
   "source": [
    "gboost_baseline.fit(X.fillna(0), y)"
   ]
  },
  {
   "cell_type": "code",
   "execution_count": 41,
   "metadata": {},
   "outputs": [],
   "source": [
    "predictions = gboost_baseline.predict(X.fillna(0))\n",
    "pred_prob = gboost_baseline.predict_proba(X.fillna(0))"
   ]
  },
  {
   "cell_type": "code",
   "execution_count": 42,
   "metadata": {},
   "outputs": [
    {
     "name": "stdout",
     "output_type": "stream",
     "text": [
      "             precision    recall  f1-score   support\n",
      "\n",
      "          0       0.92      1.00      0.96    282677\n",
      "          1       0.62      0.02      0.04     24823\n",
      "\n",
      "avg / total       0.90      0.92      0.88    307500\n",
      "\n"
     ]
    }
   ],
   "source": [
    "print(classification_report(y, predictions))"
   ]
  },
  {
   "cell_type": "code",
   "execution_count": 43,
   "metadata": {},
   "outputs": [
    {
     "name": "stdout",
     "output_type": "stream",
     "text": [
      "[[282365    312]\n",
      " [ 24318    505]]\n"
     ]
    }
   ],
   "source": [
    "print(confusion_matrix(y, predictions))"
   ]
  },
  {
   "cell_type": "code",
   "execution_count": 44,
   "metadata": {
    "scrolled": true
   },
   "outputs": [
    {
     "data": {
      "text/plain": [
       "0.7675923231159943"
      ]
     },
     "execution_count": 44,
     "metadata": {},
     "output_type": "execute_result"
    }
   ],
   "source": [
    "roc_auc_score(y, pred_prob[:,1])"
   ]
  },
  {
   "cell_type": "code",
   "execution_count": 45,
   "metadata": {},
   "outputs": [],
   "source": [
    "fpr, tpr, thresholds = roc_curve(y, pred_prob[:,1])"
   ]
  },
  {
   "cell_type": "code",
   "execution_count": 47,
   "metadata": {},
   "outputs": [
    {
     "data": {
      "text/plain": [
       "<matplotlib.legend.Legend at 0x24c02d3b1d0>"
      ]
     },
     "execution_count": 47,
     "metadata": {},
     "output_type": "execute_result"
    },
    {
     "data": {
      "image/png": "[encoded data removed]",
      "text/plain": [
       "<Figure size 432x288 with 1 Axes>"
      ]
     },
     "metadata": {},
     "output_type": "display_data"
    }
   ],
   "source": [
    "plt.title('Receiver Operating Characteristic')\n",
    "plt.plot(fpr,tpr, label='AUC = %0.4f'% roc_auc_score(y, pred_prob[:,1]))\n",
    "plt.ylabel('True Positive Rate')\n",
    "plt.xlabel('False Positive Rate')\n",
    "plt.legend(loc='lower right')"
   ]
  },
  {
   "cell_type": "code",
   "execution_count": 25,
   "metadata": {},
   "outputs": [],
   "source": [
    "pred_sub = gboost_baseline.predict_proba(test.fillna(0))\n",
    "\n",
    "submission = pd.DataFrame()\n",
    "submission['TARGET'] = pred_sub[:,1]\n",
    "submission.index = test['SK_ID_CURR']"
   ]
  },
  {
   "cell_type": "code",
   "execution_count": 26,
   "metadata": {},
   "outputs": [],
   "source": [
    "submission.to_csv('gboost-complete-baseline.csv')"
   ]
  },
  {
   "cell_type": "code",
   "execution_count": 16,
   "metadata": {},
   "outputs": [],
   "source": []
  },
  {
   "cell_type": "code",
   "execution_count": 59,
   "metadata": {},
   "outputs": [],
   "source": [
    "summary = pd.Series(gboost_baseline.feature_importances_)\n",
    "summary.index = X.columns"
   ]
  },
  {
   "cell_type": "code",
   "execution_count": 70,
   "metadata": {
    "scrolled": false
   },
   "outputs": [],
   "source": [
    "summary.sort_values(ascending=False, inplace=True)"
   ]
  },
  {
   "cell_type": "code",
   "execution_count": 73,
   "metadata": {},
   "outputs": [
    {
     "data": {
      "text/plain": [
       "EXT_SOURCE_3                                0.130086\n",
       "EXT_SOURCE_2                                0.120691\n",
       "DAYS_BIRTH                                  0.080033\n",
       "EXT_SOURCE_1                                0.060527\n",
       "AMT_GOODS_PRICE                             0.052297\n",
       "AMT_CREDIT                                  0.051843\n",
       "DAYS_EMPLOYED                               0.035950\n",
       "DAYS_ID_PUBLISH                             0.032737\n",
       "AMT_ANNUITY                                 0.031758\n",
       "DAYS_REGISTRATION                           0.022041\n",
       "DAYS_LAST_PHONE_CHANGE                      0.018862\n",
       "CODE_GENDER_F                               0.012447\n",
       "OWN_CAR_AGE                                 0.011523\n",
       "FLAG_OWN_CAR_Y                              0.011499\n",
       "REGION_RATING_CLIENT_W_CITY                 0.011352\n",
       "DEF_30_CNT_SOCIAL_CIRCLE                    0.011010\n",
       "NAME_FAMILY_STATUS_Married                  0.010404\n",
       "AMT_REQ_CREDIT_BUREAU_QRT                   0.009923\n",
       "AMT_INCOME_TOTAL                            0.009749\n",
       "FLAG_DOCUMENT_3                             0.009311\n",
       "AMT_REQ_CREDIT_BUREAU_YEAR                  0.009302\n",
       "DEF_60_CNT_SOCIAL_CIRCLE                    0.008724\n",
       "FLAG_WORK_PHONE                             0.008136\n",
       "SK_ID_CURR                                  0.008085\n",
       "NAME_EDUCATION_TYPE_Higher education        0.008014\n",
       "ORGANIZATION_TYPE_Transport: type 3         0.007367\n",
       "NAME_INCOME_TYPE_Working                    0.007181\n",
       "ORGANIZATION_TYPE_Self-employed             0.006975\n",
       "CODE_GENDER_M                               0.006869\n",
       "REGION_POPULATION_RELATIVE                  0.006862\n",
       "                                              ...   \n",
       "OCCUPATION_TYPE_Cleaning staff              0.000000\n",
       "OBS_30_CNT_SOCIAL_CIRCLE                    0.000000\n",
       "ORGANIZATION_TYPE_Industry: type 8          0.000000\n",
       "ORGANIZATION_TYPE_Industry: type 7          0.000000\n",
       "ORGANIZATION_TYPE_Industry: type 6          0.000000\n",
       "ORGANIZATION_TYPE_Industry: type 5          0.000000\n",
       "ORGANIZATION_TYPE_Industry: type 4          0.000000\n",
       "ORGANIZATION_TYPE_Industry: type 3          0.000000\n",
       "FLAG_DOCUMENT_4                             0.000000\n",
       "ORGANIZATION_TYPE_Industry: type 2          0.000000\n",
       "FLAG_DOCUMENT_6                             0.000000\n",
       "FLAG_DOCUMENT_7                             0.000000\n",
       "FLAG_DOCUMENT_9                             0.000000\n",
       "ORGANIZATION_TYPE_Industry: type 13         0.000000\n",
       "ORGANIZATION_TYPE_Business Entity Type 2    0.000000\n",
       "FLAG_DOCUMENT_12                            0.000000\n",
       "ORGANIZATION_TYPE_Industry: type 12         0.000000\n",
       "FLAG_DOCUMENT_14                            0.000000\n",
       "FLAG_DOCUMENT_15                            0.000000\n",
       "ORGANIZATION_TYPE_Industry: type 11         0.000000\n",
       "FLAG_DOCUMENT_17                            0.000000\n",
       "ORGANIZATION_TYPE_Industry: type 10         0.000000\n",
       "FLAG_DOCUMENT_19                            0.000000\n",
       "ORGANIZATION_TYPE_Housing                   0.000000\n",
       "AMT_REQ_CREDIT_BUREAU_HOUR                  0.000000\n",
       "ORGANIZATION_TYPE_Hotel                     0.000000\n",
       "ORGANIZATION_TYPE_Government                0.000000\n",
       "ORGANIZATION_TYPE_Electricity               0.000000\n",
       "ORGANIZATION_TYPE_Culture                   0.000000\n",
       "EMERGENCYSTATE_MODE_nan                     0.000000\n",
       "Length: 258, dtype: float64"
      ]
     },
     "execution_count": 73,
     "metadata": {},
     "output_type": "execute_result"
    }
   ],
   "source": [
    "summary"
   ]
  },
  {
   "cell_type": "code",
   "execution_count": null,
   "metadata": {},
   "outputs": [],
   "source": []
  },
  {
   "cell_type": "code",
   "execution_count": null,
   "metadata": {},
   "outputs": [],
   "source": []
  },
  {
   "cell_type": "code",
   "execution_count": null,
   "metadata": {},
   "outputs": [],
   "source": []
  },
  {
   "cell_type": "code",
   "execution_count": null,
   "metadata": {},
   "outputs": [],
   "source": []
  }
 ],
 "metadata": {
  "kernelspec": {
   "display_name": "Python 3",
   "language": "python",
   "name": "python3"
  },
  "language_info": {
   "codemirror_mode": {
    "name": "ipython",
    "version": 3
   },
   "file_extension": ".py",
   "mimetype": "text/x-python",
   "name": "python",
   "nbconvert_exporter": "python",
   "pygments_lexer": "ipython3",
   "version": "3.6.5"
  }
 },
 "nbformat": 4,
 "nbformat_minor": 2
}
