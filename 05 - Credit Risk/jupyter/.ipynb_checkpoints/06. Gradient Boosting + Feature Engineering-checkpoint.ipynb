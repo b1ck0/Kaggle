{
 "cells": [
  {
   "cell_type": "code",
   "execution_count": 148,
   "metadata": {},
   "outputs": [],
   "source": [
    "import numpy as np\n",
    "import pandas as pd\n",
    "import seaborn as sns\n",
    "import matplotlib.pyplot as plt\n",
    "\n",
    "from sklearn import preprocessing\n",
    "from sklearn.cross_validation import train_test_split\n",
    "from sklearn.ensemble import GradientBoostingClassifier\n",
    "from sklearn.metrics import classification_report, confusion_matrix, roc_auc_score, roc_curve\n",
    "\n",
    "%matplotlib inline"
   ]
  },
  {
   "cell_type": "code",
   "execution_count": 149,
   "metadata": {},
   "outputs": [],
   "source": [
    "# loading train dataset\n",
    "train_csv = pd.read_csv('../input/application_train.csv.zip', compression='infer')"
   ]
  },
  {
   "cell_type": "code",
   "execution_count": 150,
   "metadata": {},
   "outputs": [],
   "source": [
    "# removing 5 rows\n",
    "train_csv = train_csv[train_csv['NAME_INCOME_TYPE'] != 'Maternity leave']\n",
    "\n",
    "# removing 4 rows\n",
    "train_csv = train_csv[train_csv['NAME_FAMILY_STATUS'] != 'Unknown']\n",
    "\n",
    "# removing 2 rows\n",
    "train_csv = train_csv[train_csv['CODE_GENDER'] != 'XNA']"
   ]
  },
  {
   "cell_type": "code",
   "execution_count": 151,
   "metadata": {
    "scrolled": false
   },
   "outputs": [],
   "source": [
    "# loading history data\n",
    "installments = pd.read_csv('../input/installments_payments.csv.zip', compression='infer')\n",
    "previous = pd.read_csv('../input/previous_application.csv.zip', compression='infer')\n",
    "bureau = pd.read_csv('../input/bureau.csv.zip', compression='infer')"
   ]
  },
  {
   "cell_type": "code",
   "execution_count": 152,
   "metadata": {},
   "outputs": [],
   "source": [
    "# loading balance data\n",
    "credit_card_balance = pd.read_csv('../input/credit_card_balance.csv.zip', compression='infer')\n",
    "bureau_balance = pd.read_csv('../input/bureau_balance.csv.zip', compression='infer')\n",
    "cash_balance = pd.read_csv('../input/POS_CASH_balance.csv.zip', compression='infer')"
   ]
  },
  {
   "cell_type": "code",
   "execution_count": 153,
   "metadata": {},
   "outputs": [],
   "source": [
    "def aggregate_df(df, value, func, labels, by='SK_ID_CURR', column=None):\n",
    "    \n",
    "    if column != None:\n",
    "        pivoted = df.pivot_table(index=by, \n",
    "                                 columns=column, \n",
    "                                 values=value, \n",
    "                                 aggfunc=func, \n",
    "                                 fill_value=0, \n",
    "                                 dropna=False)\n",
    "    else:\n",
    "        pivoted = df.pivot_table(index=by, \n",
    "                                 values=value, \n",
    "                                 aggfunc=func, \n",
    "                                 fill_value=0, \n",
    "                                 dropna=False)\n",
    "        \n",
    "    pivoted_df = pd.DataFrame(pivoted.to_records())\n",
    "    \n",
    "    pivoted_df.rename(columns=labels, inplace=True)\n",
    "    \n",
    "    return pivoted_df\n",
    "\n",
    "def min_row(row):\n",
    "    return np.nanmin([row['EXT_SOURCE_1'], row['EXT_SOURCE_2'], row['EXT_SOURCE_3']])"
   ]
  },
  {
   "cell_type": "code",
   "execution_count": 154,
   "metadata": {},
   "outputs": [],
   "source": [
    "X = train_csv\n",
    "X.set_index('SK_ID_CURR',inplace=True)\n",
    "# converting the days_birth into years\n",
    "#X['AGE'] = -1*train_csv['DAYS_BIRTH']/365.0\n",
    "#X['MONTHS_EMPLOYED'] = -1*train_csv['DAYS_EMPLOYED']/30.0\n",
    "\n",
    "#X['EXT_SCORE_MIN'] = train_csv.apply(lambda x: min_row(x), axis=1)"
   ]
  },
  {
   "cell_type": "code",
   "execution_count": 155,
   "metadata": {},
   "outputs": [],
   "source": [
    "labels = {\n",
    "          'Active'   : 'CNT_ACTIVE_LOANS',\n",
    "          'Bad debt' : 'CNT_BAD_DEBT',\n",
    "          'Closed'   : 'CNT_CLOSED_DEBT',\n",
    "          'Sold'     : 'CNT_SOLD_DEBT'\n",
    "         }\n",
    "\n",
    "cnt_loans = aggregate_df(df=bureau, value='CREDIT_TYPE', column='CREDIT_ACTIVE', func='count', labels=labels)\n",
    "\n",
    "labels = {\n",
    "          'Active'   : 'AMT_ACTIVE_LOANS',\n",
    "          'Bad debt' : 'AMT_BAD_DEBT',\n",
    "          'Closed'   : 'AMT_CLOSED_DEBT',\n",
    "          'Sold'     : 'AMT_SOLD_DEBT'\n",
    "         }\n",
    "\n",
    "amt_loans = aggregate_df(df=bureau, value='AMT_CREDIT_SUM', column='CREDIT_ACTIVE', func='sum', labels=labels)\n",
    "\n",
    "labels = {\n",
    "          'OVERDUE'   : 'MAX_OVERDUE'\n",
    "         }\n",
    "\n",
    "installments['OVERDUE'] = installments['DAYS_ENTRY_PAYMENT'] - installments['DAYS_INSTALMENT']\n",
    "max_overdue = aggregate_df(df=installments, value='OVERDUE', func='max', labels=labels)\n",
    "\n",
    "labels = {\n",
    "          'CNT_INSTALMENT_FUTURE'   : 'CNT_FUTURE_INSTALLMENTS'\n",
    "         }\n",
    "\n",
    "cnt_future_installments = aggregate_df(df=cash_balance, value='CNT_INSTALMENT_FUTURE', func='sum', labels=labels)\n",
    "\n",
    "labels = {\n",
    "          'Approved'     : 'CNT_LOANS_APPROVED',\n",
    "          'Canceled'     : 'CNT_LOANS_CANCELLED',\n",
    "          'Refused'      : 'CNT_LOANS_REFUSED',\n",
    "          'Unused offer' : 'CNT_UNUSED_OFFERS'\n",
    "         }\n",
    "\n",
    "cnt_prev_loans = aggregate_df(df=previous, \n",
    "                              value='NAME_CONTRACT_TYPE', column='NAME_CONTRACT_STATUS', func='count', labels=labels)\n",
    "\n",
    "labels = {\n",
    "          'CNT_DRAWINGS_CURRENT'   : 'CNT_CC_DRAWINGS'\n",
    "         }\n",
    "\n",
    "cc_draw_cnt = aggregate_df(df=credit_card_balance,\n",
    "                          value='CNT_DRAWINGS_CURRENT', func='sum', labels=labels)\n",
    "\n",
    "cc_balance = pd.DataFrame(credit_card_balance.pivot_table(index='SK_ID_CURR', \n",
    "                                             values=['AMT_PAYMENT_TOTAL_CURRENT'], \n",
    "                                             columns='MONTHS_BALANCE',\n",
    "                                             aggfunc='mean').to_records())[['SK_ID_CURR',\"('AMT_PAYMENT_TOTAL_CURRENT', -1)\"]]\n",
    "\n",
    "cc_balance.columns = ['SK_ID_CURR', 'CREDIT_CARD_BALANCE']\n",
    "\n",
    "X = pd.concat([X, cnt_loans], axis=1, join='outer', join_axes=[X.index])\n",
    "X = pd.concat([X, amt_loans], axis=1, join='outer', join_axes=[X.index])\n",
    "X = pd.concat([X, max_overdue], axis=1, join='outer', join_axes=[X.index])\n",
    "X = pd.concat([X, cnt_future_installments], axis=1, join='outer', join_axes=[X.index])\n",
    "X = pd.concat([X, cnt_prev_loans], axis=1, join='outer', join_axes=[X.index])\n",
    "X = pd.concat([X, cc_draw_cnt], axis=1, join='outer', join_axes=[X.index])\n",
    "X = pd.concat([X, cc_balance], axis=1, join='outer', join_axes=[X.index])\n",
    "\n",
    "del cnt_loans, amt_loans, max_overdue, cnt_future_installments, cnt_prev_loans, cc_balance, cc_draw_cnt\n",
    "del previous, cash_balance, installments, bureau, credit_card_balance"
   ]
  },
  {
   "cell_type": "code",
   "execution_count": null,
   "metadata": {},
   "outputs": [],
   "source": []
  },
  {
   "cell_type": "code",
   "execution_count": null,
   "metadata": {
    "scrolled": false
   },
   "outputs": [],
   "source": []
  },
  {
   "cell_type": "code",
   "execution_count": null,
   "metadata": {},
   "outputs": [],
   "source": []
  },
  {
   "cell_type": "code",
   "execution_count": null,
   "metadata": {},
   "outputs": [],
   "source": []
  },
  {
   "cell_type": "code",
   "execution_count": null,
   "metadata": {},
   "outputs": [],
   "source": []
  },
  {
   "cell_type": "code",
   "execution_count": null,
   "metadata": {},
   "outputs": [],
   "source": []
  },
  {
   "cell_type": "code",
   "execution_count": null,
   "metadata": {},
   "outputs": [],
   "source": []
  },
  {
   "cell_type": "code",
   "execution_count": null,
   "metadata": {},
   "outputs": [],
   "source": []
  },
  {
   "cell_type": "code",
   "execution_count": null,
   "metadata": {},
   "outputs": [],
   "source": []
  },
  {
   "cell_type": "code",
   "execution_count": null,
   "metadata": {},
   "outputs": [],
   "source": []
  },
  {
   "cell_type": "code",
   "execution_count": null,
   "metadata": {},
   "outputs": [],
   "source": []
  },
  {
   "cell_type": "code",
   "execution_count": 156,
   "metadata": {},
   "outputs": [],
   "source": [
    "# assigning X,y\n",
    "y = X['TARGET']\n",
    "X = pd.get_dummies(X.drop(['TARGET','SK_ID_CURR'], axis=1), dummy_na=True)"
   ]
  },
  {
   "cell_type": "code",
   "execution_count": null,
   "metadata": {},
   "outputs": [],
   "source": []
  },
  {
   "cell_type": "code",
   "execution_count": 157,
   "metadata": {},
   "outputs": [],
   "source": [
    "X_train, X_test, y_train, y_test = train_test_split(X, y, test_size=0.33)"
   ]
  },
  {
   "cell_type": "code",
   "execution_count": null,
   "metadata": {},
   "outputs": [],
   "source": []
  },
  {
   "cell_type": "code",
   "execution_count": 158,
   "metadata": {},
   "outputs": [],
   "source": [
    "gboost_baseline = GradientBoostingClassifier(n_estimators=200)"
   ]
  },
  {
   "cell_type": "code",
   "execution_count": null,
   "metadata": {},
   "outputs": [],
   "source": [
    "gboost_baseline.fit(X_train.fillna(value=0), y_train)"
   ]
  },
  {
   "cell_type": "code",
   "execution_count": null,
   "metadata": {},
   "outputs": [],
   "source": [
    "predictions = gboost_baseline.predict(X_test.fillna(0))\n",
    "pred_prob = gboost_baseline.predict_proba(X_test.fillna(0))"
   ]
  },
  {
   "cell_type": "code",
   "execution_count": null,
   "metadata": {},
   "outputs": [],
   "source": [
    "print(classification_report(y_test, predictions))"
   ]
  },
  {
   "cell_type": "code",
   "execution_count": null,
   "metadata": {},
   "outputs": [],
   "source": [
    "print(confusion_matrix(y_test, predictions))"
   ]
  },
  {
   "cell_type": "code",
   "execution_count": null,
   "metadata": {
    "scrolled": true
   },
   "outputs": [],
   "source": [
    "roc_auc_score(y_test, pred_prob[:,1])"
   ]
  },
  {
   "cell_type": "code",
   "execution_count": null,
   "metadata": {},
   "outputs": [],
   "source": [
    "fpr, tpr, thresholds = roc_curve(y_test, pred_prob[:,1])"
   ]
  },
  {
   "cell_type": "code",
   "execution_count": null,
   "metadata": {},
   "outputs": [],
   "source": [
    "plt.figure(figsize=(16,8))\n",
    "plt.title('Receiver Operating Characteristic')\n",
    "plt.plot(fpr,tpr, label='AUC = %0.4f'% roc_auc_score(y_test, pred_prob[:,1]))\n",
    "plt.ylabel('True Positive Rate')\n",
    "plt.xlabel('False Positive Rate')\n",
    "plt.legend(loc='upper left')"
   ]
  },
  {
   "cell_type": "code",
   "execution_count": null,
   "metadata": {},
   "outputs": [],
   "source": []
  },
  {
   "cell_type": "code",
   "execution_count": null,
   "metadata": {},
   "outputs": [],
   "source": []
  },
  {
   "cell_type": "code",
   "execution_count": null,
   "metadata": {},
   "outputs": [],
   "source": []
  },
  {
   "cell_type": "code",
   "execution_count": null,
   "metadata": {},
   "outputs": [],
   "source": [
    "summary = pd.Series(gboost_baseline.feature_importances_)\n",
    "summary.index = X.columns"
   ]
  },
  {
   "cell_type": "code",
   "execution_count": null,
   "metadata": {
    "scrolled": false
   },
   "outputs": [],
   "source": [
    "summary.sort_values(ascending=False, inplace=True)"
   ]
  },
  {
   "cell_type": "code",
   "execution_count": null,
   "metadata": {},
   "outputs": [],
   "source": []
  },
  {
   "cell_type": "code",
   "execution_count": null,
   "metadata": {
    "scrolled": false
   },
   "outputs": [],
   "source": [
    "plt.figure(figsize=(10,55))\n",
    "sns.barplot(y=summary.index.values, x=summary.values)"
   ]
  },
  {
   "cell_type": "code",
   "execution_count": null,
   "metadata": {},
   "outputs": [],
   "source": []
  },
  {
   "cell_type": "code",
   "execution_count": null,
   "metadata": {},
   "outputs": [],
   "source": [
    "plt.figure(figsize=(20,10))\n",
    "\n",
    "g = sns.FacetGrid(train_csv, col='TARGET')\n",
    "g.map(plt.hist, \"EXT_SOURCE_3\", color=\"steelblue\")\n",
    "\n",
    "#sns.distplot(train_csv['EXT_SOURCE_2'].fillna(0), kde=False)"
   ]
  },
  {
   "cell_type": "code",
   "execution_count": null,
   "metadata": {},
   "outputs": [],
   "source": []
  }
 ],
 "metadata": {
  "kernelspec": {
   "display_name": "Python 3",
   "language": "python",
   "name": "python3"
  },
  "language_info": {
   "codemirror_mode": {
    "name": "ipython",
    "version": 3
   },
   "file_extension": ".py",
   "mimetype": "text/x-python",
   "name": "python",
   "nbconvert_exporter": "python",
   "pygments_lexer": "ipython3",
   "version": "3.6.5"
  }
 },
 "nbformat": 4,
 "nbformat_minor": 2
}
