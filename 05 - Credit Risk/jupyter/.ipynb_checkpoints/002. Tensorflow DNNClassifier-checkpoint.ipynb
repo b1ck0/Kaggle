{
 "cells": [
  {
   "cell_type": "code",
   "execution_count": 3,
   "metadata": {},
   "outputs": [],
   "source": [
    "import tensorflow as tf\n",
    "import pandas as pd"
   ]
  },
  {
   "cell_type": "code",
   "execution_count": null,
   "metadata": {},
   "outputs": [],
   "source": [
    "# reading the engineered datasets\n",
    "df_train = pd.read_csv('../input/train.csv') # training set after train/test split\n",
    "df_valid = pd.read_csv('../input/valid.csv') # testing set after train/test split\n",
    "df_infer = pd.read_csv('../input/infer.csv') # inference set provided in Kaggle"
   ]
  },
  {
   "cell_type": "code",
   "execution_count": null,
   "metadata": {},
   "outputs": [],
   "source": [
    "FEATURES = ['DAYS_EMPLOYED', 'CODE_GENDER', 'CNT_CHILDREN', 'CNT_FAM_MEMBERS'] # etc...\n",
    "LABEL = 'TARGET'\n",
    "DEFAULTS = [[-365],['M'],[2],[4]]\n",
    "\n",
    "INPUT_COLUMNS = [\n",
    "    tf.feature_column.numeric_column('DAYS_EMPLOYED')\n",
    "    tf.feature_column.categorical_column_with_vocabulary_list(key='CODE_GENDER', vocabulary_list=('M','F'))\n",
    "    tf.feature_column.categorical_column_with_identity(key='CNT_CHILDREN', num_buckets=15)\n",
    "    tf.feature_column.categorical_column_with_identity(key='CNT_FAM_MEMBERS', num_buckets=20)\n",
    "]"
   ]
  },
  {
   "cell_type": "code",
   "execution_count": 13,
   "metadata": {},
   "outputs": [],
   "source": [
    "# defining an train input function which feeds the training pandas dataframe\n",
    "def input_fn_train(df, num_epochs):\n",
    "    '''\n",
    "    inputs:\n",
    "    df - training set after train/test split\n",
    "    \n",
    "    output:\n",
    "    minibatches of x,y\n",
    "    '''\n",
    "    return tf.estimator.inputs.pandas_input_fn(\n",
    "    x = df,\n",
    "    y = df[LABEL],\n",
    "    batch_size = 128,\n",
    "    num_epochs = num_epochs,\n",
    "    shuffle = True,\n",
    "    queue_capacity = 1000,\n",
    "    num_threads = 1\n",
    "  )"
   ]
  },
  {
   "cell_type": "code",
   "execution_count": 14,
   "metadata": {},
   "outputs": [],
   "source": [
    "# defining an prediction input function which feeds the inference pandas dataframe\n",
    "def input_fn_eval(df, num_epochs):\n",
    "    '''\n",
    "    inputs:\n",
    "    df - testing set after train/test split\n",
    "    \n",
    "    output:\n",
    "    minibatches of x,y\n",
    "    '''\n",
    "    return tf.estimator.inputs.pandas_input_fn(\n",
    "    x = df,\n",
    "    y = df[LABEL],\n",
    "    batch_size = 128,\n",
    "    num_epochs = num_epochs,\n",
    "    shuffle = True,\n",
    "    queue_capacity = 1000,\n",
    "    num_threads = 1\n",
    "  )"
   ]
  },
  {
   "cell_type": "code",
   "execution_count": null,
   "metadata": {},
   "outputs": [],
   "source": [
    "# defining an prediction input function which feeds the inference pandas dataframe\n",
    "def input_fn_infer(df, num_epochs):\n",
    "    '''\n",
    "    inputs:\n",
    "    df - inference dataset provided in Kaggle\n",
    "    \n",
    "    output:\n",
    "    minibatches of x,None\n",
    "    '''\n",
    "    return tf.estimator.inputs.pandas_input_fn(\n",
    "    x = df,\n",
    "    y = None,\n",
    "    batch_size = 128,\n",
    "    num_epochs = num_epochs,\n",
    "    shuffle = True,\n",
    "    queue_capacity = 1000,\n",
    "    num_threads = 1\n",
    "  )"
   ]
  },
  {
   "cell_type": "code",
   "execution_count": null,
   "metadata": {},
   "outputs": [],
   "source": []
  },
  {
   "cell_type": "code",
   "execution_count": 17,
   "metadata": {},
   "outputs": [],
   "source": [
    "def train_and_evaluate(output_dir, num_train_steps):\n",
    "    estimator=tf.estimator.DNNClassifier(\n",
    "                        activation_fn=tf.nn.relu,\n",
    "                        hidden_units=[100,50,25,10], \n",
    "                        feature_columns=INPUT_COLUMNS, \n",
    "                        model_dir=OUTDIR,\n",
    "                        n_classes=2,\n",
    "                        optimizer=tf.train.ProximalAdagradOptimizer(\n",
    "                                                learning_rate=0.1,\n",
    "                                                l1_regularization_strength=0.001),\n",
    "                        dropout=0.2,\n",
    "                        loss_reduction='weighted_sum')\n",
    "    \n",
    "    train_spec=tf.estimator.TrainSpec(\n",
    "                       input_fn = input_fn_train(),\n",
    "                       max_steps = num_train_steps)\n",
    "    \n",
    "    eval_spec=tf.estimator.EvalSpec(\n",
    "                       input_fn = input_fn_eval(),\n",
    "                       steps = None,\n",
    "                       start_delay_secs = 1, # start evaluating after N seconds\n",
    "                       throttle_secs = 10)  # evaluate every N seconds\n",
    "\n",
    "    \n",
    "    tf.estimator.train_and_evaluate(estimator, train_spec, eval_spec)"
   ]
  },
  {
   "cell_type": "code",
   "execution_count": null,
   "metadata": {},
   "outputs": [],
   "source": [
    "#defining out directory for checkpoints\n",
    "OUTDIR = 'DNN_CLASSIFIER'\n",
    "\n",
    "#starting tensorboard for monitoring\n",
    "TensorBoard().start(OUTDIR)"
   ]
  },
  {
   "cell_type": "code",
   "execution_count": null,
   "metadata": {},
   "outputs": [],
   "source": [
    "# running the training\n",
    "train_and_evaluate(OUTDIR, num_train_steps = 2000)"
   ]
  },
  {
   "cell_type": "code",
   "execution_count": null,
   "metadata": {},
   "outputs": [],
   "source": [
    "TensorBoard().list()"
   ]
  },
  {
   "cell_type": "code",
   "execution_count": null,
   "metadata": {},
   "outputs": [],
   "source": [
    "TensorBoard().stop()"
   ]
  }
 ],
 "metadata": {
  "kernelspec": {
   "display_name": "Python 3",
   "language": "python",
   "name": "python3"
  },
  "language_info": {
   "codemirror_mode": {
    "name": "ipython",
    "version": 3
   },
   "file_extension": ".py",
   "mimetype": "text/x-python",
   "name": "python",
   "nbconvert_exporter": "python",
   "pygments_lexer": "ipython3",
   "version": "3.6.5"
  }
 },
 "nbformat": 4,
 "nbformat_minor": 2
}
