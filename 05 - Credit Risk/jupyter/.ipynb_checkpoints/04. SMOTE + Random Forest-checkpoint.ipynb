{
 "cells": [
  {
   "cell_type": "code",
   "execution_count": 2,
   "metadata": {},
   "outputs": [],
   "source": [
    "import numpy as np\n",
    "import pandas as pd\n",
    "import seaborn as sns\n",
    "import matplotlib.pyplot as plt\n",
    "\n",
    "from sklearn import preprocessing\n",
    "from sklearn.cross_validation import train_test_split\n",
    "from sklearn.ensemble import GradientBoostingClassifier\n",
    "from sklearn.metrics import classification_report, confusion_matrix, roc_auc_score, roc_curve\n",
    "\n",
    "from imblearn.over_sampling import SMOTE\n",
    "\n",
    "%matplotlib inline"
   ]
  },
  {
   "cell_type": "code",
   "execution_count": 3,
   "metadata": {},
   "outputs": [],
   "source": [
    "# train and test datasets\n",
    "train_csv = pd.read_csv('../input/application_train.csv.zip', compression='infer')\n",
    "test_csv = pd.read_csv('../input/application_test.csv.zip', compression='infer')\n",
    "\n",
    "# balance information\n",
    "credit_card_balance = pd.read_csv('../input/credit_card_balance.csv.zip', compression='infer')\n",
    "bureau_balance = pd.read_csv('../input/bureau_balance.csv.zip', compression='infer')\n",
    "cash_balance = pd.read_csv('../input/POS_CASH_balance.csv.zip', compression='infer')\n",
    "\n",
    "# histoy data\n",
    "installments = pd.read_csv('../input/installments_payments.csv.zip', compression='infer')\n",
    "previous = pd.read_csv('../input/previous_application.csv.zip', compression='infer')"
   ]
  },
  {
   "cell_type": "code",
   "execution_count": 4,
   "metadata": {},
   "outputs": [],
   "source": [
    "# removing 5 rows\n",
    "train_csv = train_csv[train_csv['NAME_INCOME_TYPE'] != 'Maternity leave']\n",
    "\n",
    "# removing 4 rows\n",
    "train_csv = train_csv[train_csv['NAME_FAMILY_STATUS'] != 'Unknown']\n",
    "\n",
    "# removing 2 rows\n",
    "train_csv = train_csv[train_csv['CODE_GENDER'] != 'XNA']"
   ]
  },
  {
   "cell_type": "code",
   "execution_count": 5,
   "metadata": {},
   "outputs": [],
   "source": [
    "# assigning X,y\n",
    "X = pd.get_dummies(train_csv.drop(['TARGET','SK_ID_CURR'], axis=1), dummy_na=True)\n",
    "y = train_csv['TARGET']\n",
    "\n",
    "# assigning test\n",
    "test = pd.get_dummies(test_csv.drop('SK_ID_CURR',axis=1), dummy_na=True)"
   ]
  },
  {
   "cell_type": "code",
   "execution_count": 6,
   "metadata": {},
   "outputs": [],
   "source": [
    "X_train, X_test, y_train, y_test = train_test_split(X, y, test_size=0.33)"
   ]
  },
  {
   "cell_type": "code",
   "execution_count": 8,
   "metadata": {},
   "outputs": [
    {
     "name": "stderr",
     "output_type": "stream",
     "text": [
      "C:\\ProgramData\\Anaconda3\\lib\\site-packages\\sklearn\\utils\\deprecation.py:77: DeprecationWarning: Function _ratio_float is deprecated; Use a float for 'ratio' is deprecated from version 0.2. The support will be removed in 0.4. Use a dict, str, or a callable instead.\n",
      "  warnings.warn(msg, category=DeprecationWarning)\n"
     ]
    }
   ],
   "source": [
    "sm = SMOTE(ratio = 1.0, n_jobs=8)\n",
    "X_train_res, y_train_res = sm.fit_sample(X_train.fillna(0), y_train)"
   ]
  },
  {
   "cell_type": "code",
   "execution_count": null,
   "metadata": {},
   "outputs": [],
   "source": []
  },
  {
   "cell_type": "code",
   "execution_count": null,
   "metadata": {},
   "outputs": [],
   "source": []
  },
  {
   "cell_type": "code",
   "execution_count": 10,
   "metadata": {},
   "outputs": [],
   "source": [
    "gboost = GradientBoostingClassifier(n_estimators=200)"
   ]
  },
  {
   "cell_type": "code",
   "execution_count": 11,
   "metadata": {},
   "outputs": [
    {
     "data": {
      "text/plain": [
       "GradientBoostingClassifier(criterion='friedman_mse', init=None,\n",
       "              learning_rate=0.1, loss='deviance', max_depth=3,\n",
       "              max_features=None, max_leaf_nodes=None,\n",
       "              min_impurity_decrease=0.0, min_impurity_split=None,\n",
       "              min_samples_leaf=1, min_samples_split=2,\n",
       "              min_weight_fraction_leaf=0.0, n_estimators=200,\n",
       "              presort='auto', random_state=None, subsample=1.0, verbose=0,\n",
       "              warm_start=False)"
      ]
     },
     "execution_count": 11,
     "metadata": {},
     "output_type": "execute_result"
    }
   ],
   "source": [
    "gboost.fit(X_train_res, y_train_res)"
   ]
  },
  {
   "cell_type": "code",
   "execution_count": 12,
   "metadata": {},
   "outputs": [],
   "source": [
    "predictions = gboost.predict(X_test.fillna(0))\n",
    "pred_prob = gboost.predict_proba(X_test.fillna(0))"
   ]
  },
  {
   "cell_type": "code",
   "execution_count": 13,
   "metadata": {},
   "outputs": [
    {
     "name": "stdout",
     "output_type": "stream",
     "text": [
      "             precision    recall  f1-score   support\n",
      "\n",
      "          0       0.92      1.00      0.96     93112\n",
      "          1       0.48      0.01      0.02      8363\n",
      "\n",
      "avg / total       0.88      0.92      0.88    101475\n",
      "\n"
     ]
    }
   ],
   "source": [
    "print(classification_report(y_test, predictions))"
   ]
  },
  {
   "cell_type": "code",
   "execution_count": 14,
   "metadata": {},
   "outputs": [
    {
     "name": "stdout",
     "output_type": "stream",
     "text": [
      "[[93007   105]\n",
      " [ 8267    96]]\n"
     ]
    }
   ],
   "source": [
    "print(confusion_matrix(y_test, predictions))"
   ]
  },
  {
   "cell_type": "code",
   "execution_count": 15,
   "metadata": {
    "scrolled": true
   },
   "outputs": [
    {
     "data": {
      "text/plain": [
       "0.7445378981284569"
      ]
     },
     "execution_count": 15,
     "metadata": {},
     "output_type": "execute_result"
    }
   ],
   "source": [
    "roc_auc_score(y_test, pred_prob[:,1])"
   ]
  },
  {
   "cell_type": "code",
   "execution_count": 16,
   "metadata": {},
   "outputs": [],
   "source": [
    "fpr, tpr, thresholds = roc_curve(y_test, pred_prob[:,1])"
   ]
  },
  {
   "cell_type": "code",
   "execution_count": 18,
   "metadata": {},
   "outputs": [
    {
     "data": {
      "text/plain": [
       "<matplotlib.legend.Legend at 0x24b006b3470>"
      ]
     },
     "execution_count": 18,
     "metadata": {},
     "output_type": "execute_result"
    },
    {
     "data": {
      "image/png": "[encoded data removed]",
      "text/plain": [
       "<Figure size 432x288 with 1 Axes>"
      ]
     },
     "metadata": {},
     "output_type": "display_data"
    }
   ],
   "source": [
    "plt.title('Receiver Operating Characteristic')\n",
    "plt.plot(fpr,tpr, label='AUC = %0.4f'% roc_auc_score(y_test, pred_prob[:,1]))\n",
    "plt.ylabel('True Positive Rate')\n",
    "plt.xlabel('False Positive Rate')\n",
    "plt.legend(loc='lower right')"
   ]
  },
  {
   "cell_type": "code",
   "execution_count": 44,
   "metadata": {},
   "outputs": [],
   "source": [
    "pred_sub = gboost.predict_proba(test.fillna(0))\n",
    "\n",
    "submission = pd.DataFrame()\n",
    "submission['TARGET'] = pred_sub[:,1]\n",
    "submission.index = test_csv['SK_ID_CURR']"
   ]
  },
  {
   "cell_type": "code",
   "execution_count": 45,
   "metadata": {},
   "outputs": [],
   "source": [
    "submission.to_csv('gboost-smote-baseline.csv')"
   ]
  },
  {
   "cell_type": "code",
   "execution_count": 16,
   "metadata": {},
   "outputs": [],
   "source": []
  },
  {
   "cell_type": "code",
   "execution_count": 19,
   "metadata": {},
   "outputs": [],
   "source": [
    "summary = pd.Series(gboost.feature_importances_)\n",
    "summary.index = X.columns"
   ]
  },
  {
   "cell_type": "code",
   "execution_count": 20,
   "metadata": {
    "scrolled": false
   },
   "outputs": [],
   "source": [
    "summary.sort_values(ascending=False, inplace=True)"
   ]
  },
  {
   "cell_type": "code",
   "execution_count": 21,
   "metadata": {},
   "outputs": [
    {
     "data": {
      "text/plain": [
       "EXT_SOURCE_3                                         0.052786\n",
       "EXT_SOURCE_2                                         0.045080\n",
       "EXT_SOURCE_1                                         0.034257\n",
       "FLAG_PHONE                                           0.028551\n",
       "OBS_30_CNT_SOCIAL_CIRCLE                             0.025803\n",
       "AMT_REQ_CREDIT_BUREAU_YEAR                           0.024799\n",
       "DAYS_BIRTH                                           0.024555\n",
       "WEEKDAY_APPR_PROCESS_START_TUESDAY                   0.024078\n",
       "CNT_CHILDREN                                         0.023886\n",
       "AMT_CREDIT                                           0.023747\n",
       "WEEKDAY_APPR_PROCESS_START_FRIDAY                    0.023347\n",
       "WEEKDAY_APPR_PROCESS_START_SATURDAY                  0.022602\n",
       "AMT_GOODS_PRICE                                      0.021479\n",
       "WEEKDAY_APPR_PROCESS_START_WEDNESDAY                 0.021124\n",
       "CODE_GENDER_M                                        0.020410\n",
       "NAME_FAMILY_STATUS_Married                           0.020332\n",
       "AMT_REQ_CREDIT_BUREAU_QRT                            0.019995\n",
       "WEEKDAY_APPR_PROCESS_START_THURSDAY                  0.019546\n",
       "WEEKDAY_APPR_PROCESS_START_MONDAY                    0.018654\n",
       "NAME_TYPE_SUITE_Unaccompanied                        0.018622\n",
       "CNT_FAM_MEMBERS                                      0.018282\n",
       "CODE_GENDER_F                                        0.017457\n",
       "NAME_EDUCATION_TYPE_Secondary / secondary special    0.016931\n",
       "REGION_RATING_CLIENT                                 0.016831\n",
       "DAYS_ID_PUBLISH                                      0.015233\n",
       "DEF_30_CNT_SOCIAL_CIRCLE                             0.014906\n",
       "FLAG_WORK_PHONE                                      0.014727\n",
       "DAYS_EMPLOYED                                        0.014493\n",
       "FLAG_OWN_REALTY_Y                                    0.014285\n",
       "WEEKDAY_APPR_PROCESS_START_SUNDAY                    0.014032\n",
       "                                                       ...   \n",
       "ORGANIZATION_TYPE_Trade: type 5                      0.000000\n",
       "FLAG_DOCUMENT_20                                     0.000000\n",
       "FLAG_DOCUMENT_19                                     0.000000\n",
       "FLAG_DOCUMENT_15                                     0.000000\n",
       "FLAG_DOCUMENT_14                                     0.000000\n",
       "FLAG_DOCUMENT_12                                     0.000000\n",
       "FLAG_DOCUMENT_11                                     0.000000\n",
       "FLAG_DOCUMENT_10                                     0.000000\n",
       "NAME_TYPE_SUITE_Children                             0.000000\n",
       "NAME_TYPE_SUITE_Group of people                      0.000000\n",
       "OCCUPATION_TYPE_Accountants                          0.000000\n",
       "NAME_TYPE_SUITE_Other_A                              0.000000\n",
       "NAME_HOUSING_TYPE_nan                                0.000000\n",
       "NAME_HOUSING_TYPE_With parents                       0.000000\n",
       "NAME_HOUSING_TYPE_Rented apartment                   0.000000\n",
       "NAME_HOUSING_TYPE_Office apartment                   0.000000\n",
       "NAME_HOUSING_TYPE_Co-op apartment                    0.000000\n",
       "NAME_FAMILY_STATUS_nan                               0.000000\n",
       "NAME_FAMILY_STATUS_Separated                         0.000000\n",
       "ORGANIZATION_TYPE_Restaurant                         0.000000\n",
       "NAME_EDUCATION_TYPE_nan                              0.000000\n",
       "NAME_EDUCATION_TYPE_Incomplete higher                0.000000\n",
       "NAME_EDUCATION_TYPE_Academic degree                  0.000000\n",
       "NAME_INCOME_TYPE_nan                                 0.000000\n",
       "ORGANIZATION_TYPE_Security                           0.000000\n",
       "EMERGENCYSTATE_MODE_Yes                              0.000000\n",
       "NAME_INCOME_TYPE_Businessman                         0.000000\n",
       "ORGANIZATION_TYPE_Security Ministries                0.000000\n",
       "NAME_TYPE_SUITE_Spouse, partner                      0.000000\n",
       "NAME_INCOME_TYPE_Student                             0.000000\n",
       "Length: 257, dtype: float64"
      ]
     },
     "execution_count": 21,
     "metadata": {},
     "output_type": "execute_result"
    }
   ],
   "source": [
    "summary"
   ]
  },
  {
   "cell_type": "code",
   "execution_count": null,
   "metadata": {},
   "outputs": [],
   "source": []
  },
  {
   "cell_type": "code",
   "execution_count": null,
   "metadata": {},
   "outputs": [],
   "source": []
  },
  {
   "cell_type": "code",
   "execution_count": null,
   "metadata": {},
   "outputs": [],
   "source": []
  },
  {
   "cell_type": "code",
   "execution_count": null,
   "metadata": {},
   "outputs": [],
   "source": []
  }
 ],
 "metadata": {
  "kernelspec": {
   "display_name": "Python 3",
   "language": "python",
   "name": "python3"
  },
  "language_info": {
   "codemirror_mode": {
    "name": "ipython",
    "version": 3
   },
   "file_extension": ".py",
   "mimetype": "text/x-python",
   "name": "python",
   "nbconvert_exporter": "python",
   "pygments_lexer": "ipython3",
   "version": "3.6.5"
  }
 },
 "nbformat": 4,
 "nbformat_minor": 2
}
