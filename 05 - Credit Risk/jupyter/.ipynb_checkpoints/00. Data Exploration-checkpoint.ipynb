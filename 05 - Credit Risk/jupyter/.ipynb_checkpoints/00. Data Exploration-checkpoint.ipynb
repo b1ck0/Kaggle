{
 "cells": [
  {
   "cell_type": "code",
   "execution_count": 39,
   "metadata": {},
   "outputs": [],
   "source": [
    "import numpy as np\n",
    "import pandas as pd\n",
    "import seaborn as sns\n",
    "import matplotlib.pyplot as plt\n",
    "\n",
    "from sklearn import preprocessing\n",
    "from sklearn import cross_validation\n",
    "from sklearn.cross_validation import train_test_split\n",
    "from sklearn.ensemble import GradientBoostingClassifier\n",
    "from sklearn import metrics\n",
    "\n",
    "%matplotlib inline"
   ]
  },
  {
   "cell_type": "code",
   "execution_count": 40,
   "metadata": {},
   "outputs": [],
   "source": [
    "def model_statistics(model, features, y_true, y_pred, y_pred_prob):\n",
    "    \n",
    "    print(\"--------------------- Confusion Matrix ---------------------\")\n",
    "    print(metrics.confusion_matrix(y_true, y_pred))\n",
    "    print('\\n')\n",
    "    \n",
    "    print(\"--------------------- Classification Report ---------------------\")\n",
    "    print(metrics.classification_report(y_true, y_pred))\n",
    "    print('\\n')\n",
    "    \n",
    "    #print(\"--------------------- ROC Curve ---------------------\")\n",
    "    #area under the curve\n",
    "    AUC = metrics.roc_auc_score(y_true, y_pred_prob[:,1])\n",
    "    \n",
    "    #false positive and true positive rates\n",
    "    fpr, tpr, thresholds = metrics.roc_curve(y_true, y_pred_prob[:,1])\n",
    "    \n",
    "    #plotting the figure\n",
    "    plt.figure(figsize=(8,8))\n",
    "    plt.title('Receiver Operating Characteristic')\n",
    "    plt.plot(fpr,tpr, label='AUC = %0.4f'% AUC)\n",
    "    plt.ylabel('True Positive Rate')\n",
    "    plt.xlabel('False Positive Rate')\n",
    "    plt.legend(loc='upper left')\n",
    "    print('\\n')\n",
    "    \n",
    "    #print(\"--------------------- Feature Importances ---------------------\")\n",
    "    summary = pd.Series(model.feature_importances_)\n",
    "    summary.index = features\n",
    "    \n",
    "    summary.sort_values(ascending=False, inplace=True)\n",
    "    \n",
    "    plt.figure(figsize=(8,10))\n",
    "    sns.barplot(y=summary.index.values[:50], x=summary.values[:50])"
   ]
  },
  {
   "cell_type": "code",
   "execution_count": 41,
   "metadata": {},
   "outputs": [],
   "source": [
    "# loading train dataset\n",
    "train_csv = pd.read_csv('../input/application_train.csv.zip', compression='infer')"
   ]
  },
  {
   "cell_type": "code",
   "execution_count": 42,
   "metadata": {},
   "outputs": [],
   "source": [
    "# removing 5 rows\n",
    "train_csv = train_csv[train_csv['NAME_INCOME_TYPE'] != 'Maternity leave']\n",
    "\n",
    "# removing 4 rows\n",
    "train_csv = train_csv[train_csv['NAME_FAMILY_STATUS'] != 'Unknown']\n",
    "\n",
    "# removing 2 rows\n",
    "train_csv = train_csv[train_csv['CODE_GENDER'] != 'XNA']"
   ]
  },
  {
   "cell_type": "code",
   "execution_count": 43,
   "metadata": {
    "scrolled": false
   },
   "outputs": [],
   "source": [
    "# loading history data\n",
    "installments = pd.read_csv('../input/installments_payments.csv.zip', compression='infer')\n",
    "previous = pd.read_csv('../input/previous_application.csv.zip', compression='infer')\n",
    "bureau = pd.read_csv('../input/bureau.csv.zip', compression='infer')"
   ]
  },
  {
   "cell_type": "code",
   "execution_count": 44,
   "metadata": {},
   "outputs": [],
   "source": [
    "# loading balance data\n",
    "credit_card_balance = pd.read_csv('../input/credit_card_balance.csv.zip', compression='infer')\n",
    "#bureau_balance = pd.read_csv('../input/bureau_balance.csv.zip', compression='infer')\n",
    "cash_balance = pd.read_csv('../input/POS_CASH_balance.csv.zip', compression='infer')"
   ]
  },
  {
   "cell_type": "code",
   "execution_count": 45,
   "metadata": {},
   "outputs": [],
   "source": [
    "def aggregate_df(df, value, func, labels, by='SK_ID_CURR', column=None):\n",
    "    \n",
    "    if column != None:\n",
    "        pivoted = df.pivot_table(index=by, \n",
    "                                 columns=column, \n",
    "                                 values=value, \n",
    "                                 aggfunc=func, \n",
    "                                 fill_value=0, \n",
    "                                 dropna=False)\n",
    "    else:\n",
    "        pivoted = df.pivot_table(index=by, \n",
    "                                 values=value, \n",
    "                                 aggfunc=func, \n",
    "                                 fill_value=0, \n",
    "                                 dropna=False)\n",
    "        \n",
    "    pivoted_df = pd.DataFrame(pivoted.to_records())\n",
    "    \n",
    "    pivoted_df.rename(columns=labels, inplace=True)\n",
    "    \n",
    "    return pivoted_df"
   ]
  },
  {
   "cell_type": "code",
   "execution_count": 46,
   "metadata": {},
   "outputs": [],
   "source": [
    "X = train_csv\n",
    "X.set_index('SK_ID_CURR',inplace=True)"
   ]
  },
  {
   "cell_type": "code",
   "execution_count": 47,
   "metadata": {},
   "outputs": [],
   "source": [
    "labels = {\n",
    "          'Active'   : 'CNT_ACTIVE_LOANS',\n",
    "          'Bad debt' : 'CNT_BAD_DEBT',\n",
    "          'Closed'   : 'CNT_CLOSED_DEBT',\n",
    "          'Sold'     : 'CNT_SOLD_DEBT'\n",
    "         }\n",
    "\n",
    "cnt_loans = aggregate_df(df=bureau, value='CREDIT_TYPE', column='CREDIT_ACTIVE', func='count', labels=labels)\n",
    "\n",
    "labels = {\n",
    "          'Active'   : 'AMT_ACTIVE_LOANS',\n",
    "          'Bad debt' : 'AMT_BAD_DEBT',\n",
    "          'Closed'   : 'AMT_CLOSED_DEBT',\n",
    "          'Sold'     : 'AMT_SOLD_DEBT'\n",
    "         }\n",
    "\n",
    "amt_loans = aggregate_df(df=bureau, value='AMT_CREDIT_SUM', column='CREDIT_ACTIVE', func='sum', labels=labels)\n",
    "\n",
    "labels = {\n",
    "          'OVERDUE'   : 'MAX_OVERDUE'\n",
    "         }\n",
    "\n",
    "installments['OVERDUE'] = installments['DAYS_ENTRY_PAYMENT'] - installments['DAYS_INSTALMENT']\n",
    "max_overdue = aggregate_df(df=installments, value='OVERDUE', func='max', labels=labels)\n",
    "\n",
    "labels = {\n",
    "          'CNT_INSTALMENT_FUTURE'   : 'CNT_FUTURE_INSTALLMENTS'\n",
    "         }\n",
    "\n",
    "cnt_future_installments = aggregate_df(df=cash_balance, value='CNT_INSTALMENT_FUTURE', func='sum', labels=labels)\n",
    "\n",
    "labels = {\n",
    "          'Approved'     : 'CNT_LOANS_APPROVED',\n",
    "          'Canceled'     : 'CNT_LOANS_CANCELLED',\n",
    "          'Refused'      : 'CNT_LOANS_REFUSED',\n",
    "          'Unused offer' : 'CNT_UNUSED_OFFERS'\n",
    "         }\n",
    "\n",
    "cnt_prev_loans = aggregate_df(df=previous, \n",
    "                              value='NAME_CONTRACT_TYPE', column='NAME_CONTRACT_STATUS', func='count', labels=labels)\n",
    "\n",
    "labels = {\n",
    "          'CNT_DRAWINGS_CURRENT'   : 'CNT_CC_DRAWINGS'\n",
    "         }\n",
    "\n",
    "cc_draw_cnt = aggregate_df(df=credit_card_balance,\n",
    "                          value='CNT_DRAWINGS_CURRENT', func='sum', labels=labels)\n",
    "\n",
    "cc_balance = pd.DataFrame(credit_card_balance.pivot_table(index='SK_ID_CURR', \n",
    "                                             values=['AMT_PAYMENT_TOTAL_CURRENT'], \n",
    "                                             columns='MONTHS_BALANCE',\n",
    "                                             aggfunc='mean').to_records())[['SK_ID_CURR',\"('AMT_PAYMENT_TOTAL_CURRENT', -1)\"]]\n",
    "\n",
    "cc_balance.columns = ['SK_ID_CURR', 'CREDIT_CARD_BALANCE']\n",
    "\n",
    "X = pd.concat([X, cnt_loans], axis=1, join='outer', join_axes=[X.index])\n",
    "X = pd.concat([X, amt_loans], axis=1, join='outer', join_axes=[X.index])\n",
    "X = pd.concat([X, max_overdue], axis=1, join='outer', join_axes=[X.index])\n",
    "X = pd.concat([X, cnt_future_installments], axis=1, join='outer', join_axes=[X.index])\n",
    "X = pd.concat([X, cnt_prev_loans], axis=1, join='outer', join_axes=[X.index])\n",
    "X = pd.concat([X, cc_draw_cnt], axis=1, join='outer', join_axes=[X.index])\n",
    "X = pd.concat([X, cc_balance], axis=1, join='outer', join_axes=[X.index])\n",
    "\n",
    "del cnt_loans, amt_loans, max_overdue, cnt_future_installments, cnt_prev_loans, cc_balance, cc_draw_cnt\n",
    "del previous, cash_balance, installments, bureau, credit_card_balance"
   ]
  },
  {
   "cell_type": "code",
   "execution_count": 48,
   "metadata": {},
   "outputs": [],
   "source": [
    "# assigning X,y\n",
    "y = X['TARGET']\n",
    "X = pd.get_dummies(X.drop(['TARGET','SK_ID_CURR','EXT_SOURCE_1','EXT_SOURCE_2','EXT_SOURCE_3'], axis=1), dummy_na=True)"
   ]
  },
  {
   "cell_type": "code",
   "execution_count": 49,
   "metadata": {},
   "outputs": [],
   "source": [
    "gboost_optimized = GradientBoostingClassifier(n_estimators=500,\n",
    "                                             learning_rate=0.1,\n",
    "                                             min_samples_split=15000,\n",
    "                                             min_samples_leaf=1000,\n",
    "                                             max_depth=5,\n",
    "                                             subsample=1.0,\n",
    "                                             max_features=None)"
   ]
  },
  {
   "cell_type": "code",
   "execution_count": 50,
   "metadata": {},
   "outputs": [
    {
     "data": {
      "text/plain": [
       "GradientBoostingClassifier(criterion='friedman_mse', init=None,\n",
       "              learning_rate=0.1, loss='deviance', max_depth=5,\n",
       "              max_features=None, max_leaf_nodes=None,\n",
       "              min_impurity_decrease=0.0, min_impurity_split=None,\n",
       "              min_samples_leaf=1000, min_samples_split=15000,\n",
       "              min_weight_fraction_leaf=0.0, n_estimators=500,\n",
       "              presort='auto', random_state=None, subsample=1.0, verbose=0,\n",
       "              warm_start=False)"
      ]
     },
     "execution_count": 50,
     "metadata": {},
     "output_type": "execute_result"
    }
   ],
   "source": [
    "gboost_optimized.fit(X.fillna(value=0), y)"
   ]
  },
  {
   "cell_type": "code",
   "execution_count": 51,
   "metadata": {},
   "outputs": [],
   "source": [
    "predictions = gboost_optimized.predict(X.fillna(0))\n",
    "pred_prob = gboost_optimized.predict_proba(X.fillna(0))"
   ]
  },
  {
   "cell_type": "code",
   "execution_count": 52,
   "metadata": {},
   "outputs": [
    {
     "name": "stdout",
     "output_type": "stream",
     "text": [
      "--------------------- Confusion Matrix ---------------------\n",
      "[[282643     34]\n",
      " [ 24784     39]]\n",
      "\n",
      "\n",
      "--------------------- Classification Report ---------------------\n",
      "             precision    recall  f1-score   support\n",
      "\n",
      "          0       0.92      1.00      0.96    282677\n",
      "          1       0.53      0.00      0.00     24823\n",
      "\n",
      "avg / total       0.89      0.92      0.88    307500\n",
      "\n",
      "\n",
      "\n",
      "\n",
      "\n"
     ]
    },
    {
     "data": {
      "image/png": "[encoded data removed]",
      "text/plain": [
       "<Figure size 576x576 with 1 Axes>"
      ]
     },
     "metadata": {},
     "output_type": "display_data"
    },
    {
     "data": {
      "image/png": "[encoded data removed]",
      "text/plain": [
       "<Figure size 576x720 with 1 Axes>"
      ]
     },
     "metadata": {},
     "output_type": "display_data"
    }
   ],
   "source": [
    "model_statistics(gboost_optimized, X.columns, y, predictions, pred_prob)"
   ]
  },
  {
   "cell_type": "code",
   "execution_count": null,
   "metadata": {},
   "outputs": [],
   "source": []
  },
  {
   "cell_type": "code",
   "execution_count": null,
   "metadata": {
    "scrolled": true
   },
   "outputs": [],
   "source": []
  },
  {
   "cell_type": "code",
   "execution_count": null,
   "metadata": {},
   "outputs": [],
   "source": []
  },
  {
   "cell_type": "code",
   "execution_count": null,
   "metadata": {},
   "outputs": [],
   "source": []
  },
  {
   "cell_type": "code",
   "execution_count": null,
   "metadata": {},
   "outputs": [],
   "source": []
  },
  {
   "cell_type": "code",
   "execution_count": null,
   "metadata": {},
   "outputs": [],
   "source": []
  },
  {
   "cell_type": "code",
   "execution_count": null,
   "metadata": {},
   "outputs": [],
   "source": []
  },
  {
   "cell_type": "code",
   "execution_count": null,
   "metadata": {},
   "outputs": [],
   "source": []
  },
  {
   "cell_type": "code",
   "execution_count": null,
   "metadata": {
    "scrolled": false
   },
   "outputs": [],
   "source": []
  },
  {
   "cell_type": "code",
   "execution_count": null,
   "metadata": {},
   "outputs": [],
   "source": []
  },
  {
   "cell_type": "code",
   "execution_count": null,
   "metadata": {
    "scrolled": false
   },
   "outputs": [],
   "source": []
  },
  {
   "cell_type": "code",
   "execution_count": 79,
   "metadata": {},
   "outputs": [],
   "source": [
    "test_csv = pd.read_csv('../input/application_test.csv.zip', compression='infer')"
   ]
  },
  {
   "cell_type": "code",
   "execution_count": 80,
   "metadata": {},
   "outputs": [],
   "source": [
    "X = test_csv\n",
    "X.set_index('SK_ID_CURR',inplace=True)"
   ]
  },
  {
   "cell_type": "code",
   "execution_count": 81,
   "metadata": {},
   "outputs": [],
   "source": [
    "# loading history data\n",
    "installments = pd.read_csv('../input/installments_payments.csv.zip', compression='infer')\n",
    "previous = pd.read_csv('../input/previous_application.csv.zip', compression='infer')\n",
    "bureau = pd.read_csv('../input/bureau.csv.zip', compression='infer')\n",
    "\n",
    "# loading balance data\n",
    "credit_card_balance = pd.read_csv('../input/credit_card_balance.csv.zip', compression='infer')\n",
    "#bureau_balance = pd.read_csv('../input/bureau_balance.csv.zip', compression='infer')\n",
    "cash_balance = pd.read_csv('../input/POS_CASH_balance.csv.zip', compression='infer')"
   ]
  },
  {
   "cell_type": "code",
   "execution_count": 82,
   "metadata": {},
   "outputs": [],
   "source": [
    "labels = {\n",
    "          'Active'   : 'CNT_ACTIVE_LOANS',\n",
    "          'Bad debt' : 'CNT_BAD_DEBT',\n",
    "          'Closed'   : 'CNT_CLOSED_DEBT',\n",
    "          'Sold'     : 'CNT_SOLD_DEBT'\n",
    "         }\n",
    "\n",
    "cnt_loans = aggregate_df(df=bureau, value='CREDIT_TYPE', column='CREDIT_ACTIVE', func='count', labels=labels)\n",
    "\n",
    "labels = {\n",
    "          'Active'   : 'AMT_ACTIVE_LOANS',\n",
    "          'Bad debt' : 'AMT_BAD_DEBT',\n",
    "          'Closed'   : 'AMT_CLOSED_DEBT',\n",
    "          'Sold'     : 'AMT_SOLD_DEBT'\n",
    "         }\n",
    "\n",
    "amt_loans = aggregate_df(df=bureau, value='AMT_CREDIT_SUM', column='CREDIT_ACTIVE', func='sum', labels=labels)\n",
    "\n",
    "labels = {\n",
    "          'OVERDUE'   : 'MAX_OVERDUE'\n",
    "         }\n",
    "\n",
    "installments['OVERDUE'] = installments['DAYS_ENTRY_PAYMENT'] - installments['DAYS_INSTALMENT']\n",
    "max_overdue = aggregate_df(df=installments, value='OVERDUE', func='max', labels=labels)\n",
    "\n",
    "labels = {\n",
    "          'CNT_INSTALMENT_FUTURE'   : 'CNT_FUTURE_INSTALLMENTS'\n",
    "         }\n",
    "\n",
    "cnt_future_installments = aggregate_df(df=cash_balance, value='CNT_INSTALMENT_FUTURE', func='sum', labels=labels)\n",
    "\n",
    "labels = {\n",
    "          'Approved'     : 'CNT_LOANS_APPROVED',\n",
    "          'Canceled'     : 'CNT_LOANS_CANCELLED',\n",
    "          'Refused'      : 'CNT_LOANS_REFUSED',\n",
    "          'Unused offer' : 'CNT_UNUSED_OFFERS'\n",
    "         }\n",
    "\n",
    "cnt_prev_loans = aggregate_df(df=previous, \n",
    "                              value='NAME_CONTRACT_TYPE', column='NAME_CONTRACT_STATUS', func='count', labels=labels)\n",
    "\n",
    "labels = {\n",
    "          'CNT_DRAWINGS_CURRENT'   : 'CNT_CC_DRAWINGS'\n",
    "         }\n",
    "\n",
    "cc_draw_cnt = aggregate_df(df=credit_card_balance,\n",
    "                          value='CNT_DRAWINGS_CURRENT', func='sum', labels=labels)\n",
    "\n",
    "cc_balance = pd.DataFrame(credit_card_balance.pivot_table(index='SK_ID_CURR', \n",
    "                                             values=['AMT_PAYMENT_TOTAL_CURRENT'], \n",
    "                                             columns='MONTHS_BALANCE',\n",
    "                                             aggfunc='mean').to_records())[['SK_ID_CURR',\"('AMT_PAYMENT_TOTAL_CURRENT', -1)\"]]\n",
    "\n",
    "cc_balance.columns = ['SK_ID_CURR', 'CREDIT_CARD_BALANCE']\n",
    "\n",
    "X = pd.concat([X, cnt_loans], axis=1, join='outer', join_axes=[X.index])\n",
    "X = pd.concat([X, amt_loans], axis=1, join='outer', join_axes=[X.index])\n",
    "X = pd.concat([X, max_overdue], axis=1, join='outer', join_axes=[X.index])\n",
    "X = pd.concat([X, cnt_future_installments], axis=1, join='outer', join_axes=[X.index])\n",
    "X = pd.concat([X, cnt_prev_loans], axis=1, join='outer', join_axes=[X.index])\n",
    "X = pd.concat([X, cc_draw_cnt], axis=1, join='outer', join_axes=[X.index])\n",
    "X = pd.concat([X, cc_balance], axis=1, join='outer', join_axes=[X.index])\n",
    "\n",
    "del cnt_loans, amt_loans, max_overdue, cnt_future_installments, cnt_prev_loans, cc_balance, cc_draw_cnt\n",
    "del previous, cash_balance, installments, bureau, credit_card_balance"
   ]
  },
  {
   "cell_type": "code",
   "execution_count": 83,
   "metadata": {},
   "outputs": [],
   "source": [
    "X = pd.get_dummies(X.drop(['SK_ID_CURR'], axis=1), dummy_na=True)"
   ]
  },
  {
   "cell_type": "code",
   "execution_count": 84,
   "metadata": {},
   "outputs": [],
   "source": [
    "probs = gboost_optimized.predict_proba(X.fillna(0))"
   ]
  },
  {
   "cell_type": "code",
   "execution_count": 85,
   "metadata": {},
   "outputs": [],
   "source": [
    "submission = pd.DataFrame()\n",
    "submission['TARGET'] = probs[:,1]\n",
    "submission.index = test_csv.index"
   ]
  },
  {
   "cell_type": "code",
   "execution_count": 86,
   "metadata": {},
   "outputs": [],
   "source": [
    "submission.to_csv('gboost-optimized-rev-1.csv')"
   ]
  },
  {
   "cell_type": "code",
   "execution_count": null,
   "metadata": {},
   "outputs": [],
   "source": []
  },
  {
   "cell_type": "code",
   "execution_count": null,
   "metadata": {},
   "outputs": [],
   "source": []
  },
  {
   "cell_type": "code",
   "execution_count": null,
   "metadata": {},
   "outputs": [],
   "source": []
  }
 ],
 "metadata": {
  "kernelspec": {
   "display_name": "Python 3",
   "language": "python",
   "name": "python3"
  },
  "language_info": {
   "codemirror_mode": {
    "name": "ipython",
    "version": 3
   },
   "file_extension": ".py",
   "mimetype": "text/x-python",
   "name": "python",
   "nbconvert_exporter": "python",
   "pygments_lexer": "ipython3",
   "version": "3.6.5"
  }
 },
 "nbformat": 4,
 "nbformat_minor": 2
}
