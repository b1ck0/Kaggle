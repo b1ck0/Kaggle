{
 "cells": [
  {
   "cell_type": "code",
   "execution_count": 1,
   "metadata": {},
   "outputs": [
    {
     "name": "stderr",
     "output_type": "stream",
     "text": [
      "C:\\ProgramData\\Anaconda3\\lib\\site-packages\\sklearn\\cross_validation.py:41: DeprecationWarning: This module was deprecated in version 0.18 in favor of the model_selection module into which all the refactored classes and functions are moved. Also note that the interface of the new CV iterators are different from that of this module. This module will be removed in 0.20.\n",
      "  \"This module will be removed in 0.20.\", DeprecationWarning)\n"
     ]
    }
   ],
   "source": [
    "import numpy as np\n",
    "import pandas as pd\n",
    "import seaborn as sns\n",
    "import matplotlib.pyplot as plt\n",
    "\n",
    "from sklearn import preprocessing\n",
    "from sklearn import cross_validation\n",
    "from sklearn.cross_validation import train_test_split\n",
    "from sklearn.ensemble import GradientBoostingClassifier\n",
    "from sklearn.metrics import classification_report, confusion_matrix, roc_auc_score, roc_curve\n",
    "from sklearn import metrics\n",
    "\n",
    "%matplotlib inline"
   ]
  },
  {
   "cell_type": "code",
   "execution_count": 2,
   "metadata": {},
   "outputs": [],
   "source": [
    "# loading train dataset\n",
    "train_csv = pd.read_csv('../input/application_train.csv.zip', compression='infer')"
   ]
  },
  {
   "cell_type": "code",
   "execution_count": 3,
   "metadata": {},
   "outputs": [],
   "source": [
    "# removing 5 rows\n",
    "train_csv = train_csv[train_csv['NAME_INCOME_TYPE'] != 'Maternity leave']\n",
    "\n",
    "# removing 4 rows\n",
    "train_csv = train_csv[train_csv['NAME_FAMILY_STATUS'] != 'Unknown']\n",
    "\n",
    "# removing 2 rows\n",
    "train_csv = train_csv[train_csv['CODE_GENDER'] != 'XNA']"
   ]
  },
  {
   "cell_type": "code",
   "execution_count": 4,
   "metadata": {
    "scrolled": false
   },
   "outputs": [],
   "source": [
    "# loading history data\n",
    "installments = pd.read_csv('../input/installments_payments.csv.zip', compression='infer')\n",
    "previous = pd.read_csv('../input/previous_application.csv.zip', compression='infer')\n",
    "bureau = pd.read_csv('../input/bureau.csv.zip', compression='infer')"
   ]
  },
  {
   "cell_type": "code",
   "execution_count": 5,
   "metadata": {},
   "outputs": [],
   "source": [
    "# loading balance data\n",
    "credit_card_balance = pd.read_csv('../input/credit_card_balance.csv.zip', compression='infer')\n",
    "#bureau_balance = pd.read_csv('../input/bureau_balance.csv.zip', compression='infer')\n",
    "cash_balance = pd.read_csv('../input/POS_CASH_balance.csv.zip', compression='infer')"
   ]
  },
  {
   "cell_type": "code",
   "execution_count": 6,
   "metadata": {},
   "outputs": [],
   "source": [
    "def aggregate_df(df, value, func, labels, by='SK_ID_CURR', column=None):\n",
    "    \n",
    "    if column != None:\n",
    "        pivoted = df.pivot_table(index=by, \n",
    "                                 columns=column, \n",
    "                                 values=value, \n",
    "                                 aggfunc=func, \n",
    "                                 fill_value=0, \n",
    "                                 dropna=False)\n",
    "    else:\n",
    "        pivoted = df.pivot_table(index=by, \n",
    "                                 values=value, \n",
    "                                 aggfunc=func, \n",
    "                                 fill_value=0, \n",
    "                                 dropna=False)\n",
    "        \n",
    "    pivoted_df = pd.DataFrame(pivoted.to_records())\n",
    "    \n",
    "    pivoted_df.rename(columns=labels, inplace=True)\n",
    "    \n",
    "    return pivoted_df"
   ]
  },
  {
   "cell_type": "code",
   "execution_count": 7,
   "metadata": {},
   "outputs": [],
   "source": [
    "X = train_csv\n",
    "X.set_index('SK_ID_CURR',inplace=True)"
   ]
  },
  {
   "cell_type": "code",
   "execution_count": 8,
   "metadata": {},
   "outputs": [],
   "source": [
    "labels = {\n",
    "          'Active'   : 'CNT_ACTIVE_LOANS',\n",
    "          'Bad debt' : 'CNT_BAD_DEBT',\n",
    "          'Closed'   : 'CNT_CLOSED_DEBT',\n",
    "          'Sold'     : 'CNT_SOLD_DEBT'\n",
    "         }\n",
    "\n",
    "cnt_loans = aggregate_df(df=bureau, value='CREDIT_TYPE', column='CREDIT_ACTIVE', func='count', labels=labels)\n",
    "\n",
    "labels = {\n",
    "          'Active'   : 'AMT_ACTIVE_LOANS',\n",
    "          'Bad debt' : 'AMT_BAD_DEBT',\n",
    "          'Closed'   : 'AMT_CLOSED_DEBT',\n",
    "          'Sold'     : 'AMT_SOLD_DEBT'\n",
    "         }\n",
    "\n",
    "amt_loans = aggregate_df(df=bureau, value='AMT_CREDIT_SUM', column='CREDIT_ACTIVE', func='sum', labels=labels)\n",
    "\n",
    "labels = {\n",
    "          'OVERDUE'   : 'MAX_OVERDUE'\n",
    "         }\n",
    "\n",
    "installments['OVERDUE'] = installments['DAYS_ENTRY_PAYMENT'] - installments['DAYS_INSTALMENT']\n",
    "max_overdue = aggregate_df(df=installments, value='OVERDUE', func='max', labels=labels)\n",
    "\n",
    "labels = {\n",
    "          'CNT_INSTALMENT_FUTURE'   : 'CNT_FUTURE_INSTALLMENTS'\n",
    "         }\n",
    "\n",
    "cnt_future_installments = aggregate_df(df=cash_balance, value='CNT_INSTALMENT_FUTURE', func='sum', labels=labels)\n",
    "\n",
    "labels = {\n",
    "          'Approved'     : 'CNT_LOANS_APPROVED',\n",
    "          'Canceled'     : 'CNT_LOANS_CANCELLED',\n",
    "          'Refused'      : 'CNT_LOANS_REFUSED',\n",
    "          'Unused offer' : 'CNT_UNUSED_OFFERS'\n",
    "         }\n",
    "\n",
    "cnt_prev_loans = aggregate_df(df=previous, \n",
    "                              value='NAME_CONTRACT_TYPE', column='NAME_CONTRACT_STATUS', func='count', labels=labels)\n",
    "\n",
    "labels = {\n",
    "          'CNT_DRAWINGS_CURRENT'   : 'CNT_CC_DRAWINGS'\n",
    "         }\n",
    "\n",
    "cc_draw_cnt = aggregate_df(df=credit_card_balance,\n",
    "                          value='CNT_DRAWINGS_CURRENT', func='sum', labels=labels)\n",
    "\n",
    "cc_balance = pd.DataFrame(credit_card_balance.pivot_table(index='SK_ID_CURR', \n",
    "                                             values=['AMT_PAYMENT_TOTAL_CURRENT'], \n",
    "                                             columns='MONTHS_BALANCE',\n",
    "                                             aggfunc='mean').to_records())[['SK_ID_CURR',\"('AMT_PAYMENT_TOTAL_CURRENT', -1)\"]]\n",
    "\n",
    "cc_balance.columns = ['SK_ID_CURR', 'CREDIT_CARD_BALANCE']\n",
    "\n",
    "X = pd.concat([X, cnt_loans], axis=1, join='outer', join_axes=[X.index])\n",
    "X = pd.concat([X, amt_loans], axis=1, join='outer', join_axes=[X.index])\n",
    "X = pd.concat([X, max_overdue], axis=1, join='outer', join_axes=[X.index])\n",
    "X = pd.concat([X, cnt_future_installments], axis=1, join='outer', join_axes=[X.index])\n",
    "X = pd.concat([X, cnt_prev_loans], axis=1, join='outer', join_axes=[X.index])\n",
    "X = pd.concat([X, cc_draw_cnt], axis=1, join='outer', join_axes=[X.index])\n",
    "X = pd.concat([X, cc_balance], axis=1, join='outer', join_axes=[X.index])\n",
    "\n",
    "del cnt_loans, amt_loans, max_overdue, cnt_future_installments, cnt_prev_loans, cc_balance, cc_draw_cnt\n",
    "del previous, cash_balance, installments, bureau, credit_card_balance"
   ]
  },
  {
   "cell_type": "code",
   "execution_count": 9,
   "metadata": {},
   "outputs": [],
   "source": [
    "# assigning X,y\n",
    "y = X['TARGET']\n",
    "X = pd.get_dummies(X.drop(['TARGET','SK_ID_CURR'], axis=1), dummy_na=True)"
   ]
  },
  {
   "cell_type": "code",
   "execution_count": 10,
   "metadata": {},
   "outputs": [],
   "source": [
    "# scaled training data to be used till the end\n",
    "X_Scaled = preprocessing.scale(X.fillna(-99999))\n",
    "\n",
    "# splitting on training and testing sets\n",
    "X_train, X_test, y_train, y_test = train_test_split(X_Scaled, y, test_size=0.33)"
   ]
  },
  {
   "cell_type": "code",
   "execution_count": 11,
   "metadata": {},
   "outputs": [],
   "source": [
    "gboost_optimized = GradientBoostingClassifier(n_estimators=500,\n",
    "                                             learning_rate=0.1,\n",
    "                                             min_samples_split=15000,\n",
    "                                             min_samples_leaf=1000,\n",
    "                                             max_depth=5,\n",
    "                                             subsample=1.0,\n",
    "                                             max_features=150)"
   ]
  },
  {
   "cell_type": "code",
   "execution_count": null,
   "metadata": {},
   "outputs": [],
   "source": [
    "gboost_optimized.fit(X_Scaled, y)"
   ]
  },
  {
   "cell_type": "code",
   "execution_count": null,
   "metadata": {},
   "outputs": [],
   "source": [
    "predictions = gboost_optimized.predict(X_test)\n",
    "pred_prob = gboost_optimized.predict_proba(X_test)"
   ]
  },
  {
   "cell_type": "code",
   "execution_count": null,
   "metadata": {},
   "outputs": [],
   "source": [
    "print(classification_report(y_test, predictions))\n",
    "print('\\n')\n",
    "print(confusion_matrix(y_test, predictions))\n",
    "print('\\n')\n",
    "print(roc_auc_score(y_test, pred_prob[:,1]))"
   ]
  },
  {
   "cell_type": "code",
   "execution_count": null,
   "metadata": {},
   "outputs": [],
   "source": [
    "fpr, tpr, thresholds = roc_curve(y_test, pred_prob[:,1])\n",
    "plt.figure(figsize=(16,8))\n",
    "plt.title('Receiver Operating Characteristic')\n",
    "plt.plot(fpr,tpr, label='AUC = %0.4f'% roc_auc_score(y_test, pred_prob[:,1]))\n",
    "plt.ylabel('True Positive Rate')\n",
    "plt.xlabel('False Positive Rate')\n",
    "plt.legend(loc='upper left')"
   ]
  },
  {
   "cell_type": "code",
   "execution_count": null,
   "metadata": {},
   "outputs": [],
   "source": [
    "summary = pd.Series(gboost_optimized.feature_importances_)\n",
    "summary.index = X.columns\n",
    "\n",
    "summary.sort_values(ascending=False, inplace=True)\n",
    "\n",
    "plt.figure(figsize=(10,10))\n",
    "sns.barplot(y=summary[:50].index.values, x=summary[:50].values)"
   ]
  },
  {
   "cell_type": "code",
   "execution_count": null,
   "metadata": {},
   "outputs": [],
   "source": [
    "test_csv = pd.read_csv('../input/application_test.csv.zip', compression='infer')"
   ]
  },
  {
   "cell_type": "code",
   "execution_count": null,
   "metadata": {},
   "outputs": [],
   "source": [
    "# loading history data\n",
    "installments = pd.read_csv('../input/installments_payments.csv.zip', compression='infer')\n",
    "previous = pd.read_csv('../input/previous_application.csv.zip', compression='infer')\n",
    "bureau = pd.read_csv('../input/bureau.csv.zip', compression='infer')\n",
    "\n",
    "# loading balance data\n",
    "credit_card_balance = pd.read_csv('../input/credit_card_balance.csv.zip', compression='infer')\n",
    "#bureau_balance = pd.read_csv('../input/bureau_balance.csv.zip', compression='infer')\n",
    "cash_balance = pd.read_csv('../input/POS_CASH_balance.csv.zip', compression='infer')"
   ]
  },
  {
   "cell_type": "code",
   "execution_count": null,
   "metadata": {},
   "outputs": [],
   "source": [
    "X = test_csv\n",
    "X.set_index('SK_ID_CURR',inplace=True)"
   ]
  },
  {
   "cell_type": "code",
   "execution_count": null,
   "metadata": {},
   "outputs": [],
   "source": [
    "labels = {\n",
    "          'Active'   : 'CNT_ACTIVE_LOANS',\n",
    "          'Bad debt' : 'CNT_BAD_DEBT',\n",
    "          'Closed'   : 'CNT_CLOSED_DEBT',\n",
    "          'Sold'     : 'CNT_SOLD_DEBT'\n",
    "         }\n",
    "\n",
    "cnt_loans = aggregate_df(df=bureau, value='CREDIT_TYPE', column='CREDIT_ACTIVE', func='count', labels=labels)\n",
    "\n",
    "labels = {\n",
    "          'Active'   : 'AMT_ACTIVE_LOANS',\n",
    "          'Bad debt' : 'AMT_BAD_DEBT',\n",
    "          'Closed'   : 'AMT_CLOSED_DEBT',\n",
    "          'Sold'     : 'AMT_SOLD_DEBT'\n",
    "         }\n",
    "\n",
    "amt_loans = aggregate_df(df=bureau, value='AMT_CREDIT_SUM', column='CREDIT_ACTIVE', func='sum', labels=labels)\n",
    "\n",
    "labels = {\n",
    "          'OVERDUE'   : 'MAX_OVERDUE'\n",
    "         }\n",
    "\n",
    "installments['OVERDUE'] = installments['DAYS_ENTRY_PAYMENT'] - installments['DAYS_INSTALMENT']\n",
    "max_overdue = aggregate_df(df=installments, value='OVERDUE', func='max', labels=labels)\n",
    "\n",
    "labels = {\n",
    "          'CNT_INSTALMENT_FUTURE'   : 'CNT_FUTURE_INSTALLMENTS'\n",
    "         }\n",
    "\n",
    "cnt_future_installments = aggregate_df(df=cash_balance, value='CNT_INSTALMENT_FUTURE', func='sum', labels=labels)\n",
    "\n",
    "labels = {\n",
    "          'Approved'     : 'CNT_LOANS_APPROVED',\n",
    "          'Canceled'     : 'CNT_LOANS_CANCELLED',\n",
    "          'Refused'      : 'CNT_LOANS_REFUSED',\n",
    "          'Unused offer' : 'CNT_UNUSED_OFFERS'\n",
    "         }\n",
    "\n",
    "cnt_prev_loans = aggregate_df(df=previous, \n",
    "                              value='NAME_CONTRACT_TYPE', column='NAME_CONTRACT_STATUS', func='count', labels=labels)\n",
    "\n",
    "labels = {\n",
    "          'CNT_DRAWINGS_CURRENT'   : 'CNT_CC_DRAWINGS'\n",
    "         }\n",
    "\n",
    "cc_draw_cnt = aggregate_df(df=credit_card_balance,\n",
    "                          value='CNT_DRAWINGS_CURRENT', func='sum', labels=labels)\n",
    "\n",
    "cc_balance = pd.DataFrame(credit_card_balance.pivot_table(index='SK_ID_CURR', \n",
    "                                             values=['AMT_PAYMENT_TOTAL_CURRENT'], \n",
    "                                             columns='MONTHS_BALANCE',\n",
    "                                             aggfunc='mean').to_records())[['SK_ID_CURR',\"('AMT_PAYMENT_TOTAL_CURRENT', -1)\"]]\n",
    "\n",
    "cc_balance.columns = ['SK_ID_CURR', 'CREDIT_CARD_BALANCE']\n",
    "\n",
    "X = pd.concat([X, cnt_loans], axis=1, join='outer', join_axes=[X.index])\n",
    "X = pd.concat([X, amt_loans], axis=1, join='outer', join_axes=[X.index])\n",
    "X = pd.concat([X, max_overdue], axis=1, join='outer', join_axes=[X.index])\n",
    "X = pd.concat([X, cnt_future_installments], axis=1, join='outer', join_axes=[X.index])\n",
    "X = pd.concat([X, cnt_prev_loans], axis=1, join='outer', join_axes=[X.index])\n",
    "X = pd.concat([X, cc_draw_cnt], axis=1, join='outer', join_axes=[X.index])\n",
    "X = pd.concat([X, cc_balance], axis=1, join='outer', join_axes=[X.index])\n",
    "\n",
    "del cnt_loans, amt_loans, max_overdue, cnt_future_installments, cnt_prev_loans, cc_balance, cc_draw_cnt\n",
    "del previous, cash_balance, installments, bureau, credit_card_balance"
   ]
  },
  {
   "cell_type": "code",
   "execution_count": null,
   "metadata": {},
   "outputs": [],
   "source": [
    "X = pd.get_dummies(X.drop(['SK_ID_CURR'], axis=1), dummy_na=True)"
   ]
  },
  {
   "cell_type": "code",
   "execution_count": null,
   "metadata": {},
   "outputs": [],
   "source": [
    "X_Scaled = preprocessing.scale(X.fillna(-99999))\n",
    "\n",
    "probs = gboost_optimized.predict_proba(X_Scaled)"
   ]
  },
  {
   "cell_type": "code",
   "execution_count": null,
   "metadata": {},
   "outputs": [],
   "source": [
    "submission = pd.DataFrame()\n",
    "submission['TARGET'] = probs[:,1]\n",
    "submission.index = test_csv.index\n",
    "\n",
    "submission.to_csv('gboost-optimized-scaled-rev-1.csv')"
   ]
  }
 ],
 "metadata": {
  "kernelspec": {
   "display_name": "Python 3",
   "language": "python",
   "name": "python3"
  },
  "language_info": {
   "codemirror_mode": {
    "name": "ipython",
    "version": 3
   },
   "file_extension": ".py",
   "mimetype": "text/x-python",
   "name": "python",
   "nbconvert_exporter": "python",
   "pygments_lexer": "ipython3",
   "version": "3.6.5"
  }
 },
 "nbformat": 4,
 "nbformat_minor": 2
}
